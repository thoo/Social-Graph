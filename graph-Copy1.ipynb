{
 "cells": [
  {
   "cell_type": "code",
   "execution_count": 2,
   "metadata": {
    "ExecuteTime": {
     "end_time": "2018-09-13T15:44:42.160801Z",
     "start_time": "2018-09-13T15:44:41.000167Z"
    }
   },
   "outputs": [],
   "source": [
    "%matplotlib inline\n",
    "import matplotlib\n",
    "import matplotlib.pyplot as plt\n",
    "import seaborn as sns\n",
    "sns.set()\n",
    "matplotlib.rcParams['figure.dpi'] = 144\n",
    "import pandas as pd\n",
    "import numpy as np\n",
    "import re\n",
    "import traceback\n",
    "from multiprocessing import Pool\n",
    "pool = Pool(processes=24)"
   ]
  },
  {
   "cell_type": "code",
   "execution_count": 3,
   "metadata": {
    "ExecuteTime": {
     "end_time": "2018-09-13T15:44:42.386545Z",
     "start_time": "2018-09-13T15:44:42.164310Z"
    }
   },
   "outputs": [],
   "source": [
    "from static_grader import grader"
   ]
  },
  {
   "cell_type": "code",
   "execution_count": 4,
   "metadata": {
    "ExecuteTime": {
     "end_time": "2018-09-13T15:44:42.393031Z",
     "start_time": "2018-09-13T15:44:42.389283Z"
    }
   },
   "outputs": [],
   "source": [
    "import pickle as pk\n",
    "def dump_file(filename,data):\n",
    "    with open(filename,'wb') as file:\n",
    "        pk.dump(data,file)\n",
    "def load_file(filename):\n",
    "    with open(filename,'rb') as file:\n",
    "        return pk.load(file)\n",
    "    "
   ]
  },
  {
   "cell_type": "markdown",
   "metadata": {},
   "source": [
    "# The New York Social Graph\n"
   ]
  },
  {
   "cell_type": "markdown",
   "metadata": {},
   "source": [
    "[New York Social Diary](http://www.newyorksocialdiary.com/) provides a\n",
    "fascinating lens onto New York's socially well-to-do.  The data forms a natural social graph for New York's social elite.  Take a look at this page of a recent [run-of-the-mill holiday party](http://www.newyorksocialdiary.com/party-pictures/2014/holiday-dinners-and-doers).\n",
    "\n",
    "Besides the brand-name celebrities, you will notice the photos have carefully annotated captions labeling those that appear in the photos.  We can think of this as implicitly implying a social graph: there is a connection between two individuals if they appear in a picture together.\n",
    "\n",
    "For this project, we will assemble the social graph from photo captions for parties dated December 1, 2014, and before.  Using this graph, we can make guesses at the most popular socialites, the most influential people, and the most tightly coupled pairs.\n",
    "\n",
    "We will attack the project in three phases:\n",
    "1. Get a list of all the photo pages to be analyzed.\n",
    "2. Parse all of the captions on a sample page.\n",
    "3. Parse all of the captions on all pages, and assemble the graph."
   ]
  },
  {
   "cell_type": "markdown",
   "metadata": {},
   "source": [
    "## Phase One\n"
   ]
  },
  {
   "cell_type": "markdown",
   "metadata": {},
   "source": [
    "The first step is to crawl the data.  We want photos from parties on or before December 1st, 2014.  Go to the [Party Pictures Archive](http://www.newyorksocialdiary.com/party-pictures) to see a list of (party) pages.  We want to get the url for each party page, along with its date.\n",
    "\n",
    "Here are some packages that you may find useful.  You are welcome to use others, if you prefer."
   ]
  },
  {
   "cell_type": "code",
   "execution_count": 11,
   "metadata": {
    "ExecuteTime": {
     "end_time": "2018-09-13T11:44:05.248555Z",
     "start_time": "2018-09-13T11:44:05.192976Z"
    }
   },
   "outputs": [],
   "source": [
    "import requests\n",
    "import dill\n",
    "from bs4 import BeautifulSoup\n",
    "from datetime import datetime"
   ]
  },
  {
   "cell_type": "markdown",
   "metadata": {},
   "source": [
    "We recommend using Python [Requests](http://docs.python-requests.org/en/master/) to download the HTML pages, and [BeautifulSoup](https://www.crummy.com/software/BeautifulSoup/) to process the HTML.  Let's start by getting the [first page](http://www.newyorksocialdiary.com/party-pictures)."
   ]
  },
  {
   "cell_type": "code",
   "execution_count": 7,
   "metadata": {
    "ExecuteTime": {
     "end_time": "2018-09-13T02:22:22.916882Z",
     "start_time": "2018-09-13T02:22:22.913834Z"
    }
   },
   "outputs": [],
   "source": [
    "def get_page(page_no):\n",
    "    return requests.get('http://www.newyorksocialdiary.com/party-pictures',params={'page':page_no})\n"
   ]
  },
  {
   "cell_type": "code",
   "execution_count": null,
   "metadata": {
    "ExecuteTime": {
     "end_time": "2018-09-11T17:38:10.554877Z",
     "start_time": "2018-09-11T17:38:10.529539Z"
    }
   },
   "outputs": [],
   "source": [
    "page = get_page(0) # Use requests.get to download the page."
   ]
  },
  {
   "cell_type": "markdown",
   "metadata": {},
   "source": [
    "Now, we process the text of the page with BeautifulSoup."
   ]
  },
  {
   "cell_type": "code",
   "execution_count": 8,
   "metadata": {
    "ExecuteTime": {
     "end_time": "2018-09-13T02:22:25.520864Z",
     "start_time": "2018-09-13T02:22:25.516029Z"
    }
   },
   "outputs": [],
   "source": [
    "def get_Date_Link(page_no):\n",
    "    page = get_page(page_no)\n",
    "    soup= BeautifulSoup(page.text, \"lxml\")\n",
    "    temp=soup.findAll('span', attrs={'class':'field-content'})\n",
    "    Link=[]\n",
    "    Date=[]\n",
    "    for i in range(0,len(temp),2):\n",
    "        if temp[i]:\n",
    "            Link.append('http://www.newyorksocialdiary.com'+temp[i].select('a')[0]['href'])\n",
    "            Date.append(temp[i+1].text)\n",
    "        else:\n",
    "            break\n",
    "    data=pd.DataFrame()\n",
    "    data['Date']=pd.to_datetime(pd.Series(Date), format='%A, %B %d, %Y')\n",
    "    data['Link']=Link\n",
    "    \n",
    "    return data"
   ]
  },
  {
   "cell_type": "markdown",
   "metadata": {},
   "source": [
    "This page has links to 50 party pages. Look at the structure of the page and determine how to isolate those links.  Your browser's developer tools (usually `Cmd`-`Option`-`I` on Mac, `Ctrl`-`Shift`-`I` on others) offer helpful tools to explore the structure of the HTML page.\n",
    "\n",
    "Once you have found a pattern, use BeautifulSoup's [select](https://www.crummy.com/software/BeautifulSoup/bs4/doc/#css-selectors) or [find_all](https://www.crummy.com/software/BeautifulSoup/bs4/doc/#find) methods to get those elements."
   ]
  },
  {
   "cell_type": "code",
   "execution_count": null,
   "metadata": {
    "ExecuteTime": {
     "end_time": "2018-09-11T18:36:16.356389Z",
     "start_time": "2018-09-11T18:36:16.293661Z"
    }
   },
   "outputs": [],
   "source": [
    "links = get_Date_Link(0).Link.values"
   ]
  },
  {
   "cell_type": "markdown",
   "metadata": {},
   "source": [
    "There should be 50 per page."
   ]
  },
  {
   "cell_type": "code",
   "execution_count": null,
   "metadata": {
    "ExecuteTime": {
     "end_time": "2018-09-11T18:36:18.253213Z",
     "start_time": "2018-09-11T18:36:18.249814Z"
    }
   },
   "outputs": [],
   "source": [
    "assert len(links) == 50"
   ]
  },
  {
   "cell_type": "markdown",
   "metadata": {},
   "source": [
    "Let's take a look at that first link.  Figure out how to extract the URL of the link, as well as the date.  You probably want to use `datetime.strptime`.  See the [format codes for dates](https://docs.python.org/3/library/datetime.html#strftime-and-strptime-behavior) for reference."
   ]
  },
  {
   "cell_type": "code",
   "execution_count": null,
   "metadata": {
    "ExecuteTime": {
     "end_time": "2018-09-11T18:36:23.542688Z",
     "start_time": "2018-09-11T18:36:23.539699Z"
    }
   },
   "outputs": [],
   "source": [
    "link = links[0]\n",
    "# Check that the title and date match what you see visually."
   ]
  },
  {
   "cell_type": "markdown",
   "metadata": {},
   "source": [
    "For purposes of code reuse, let's put that logic into a function.  It should take the link element and return the URL and date parsed from it."
   ]
  },
  {
   "cell_type": "code",
   "execution_count": null,
   "metadata": {},
   "outputs": [],
   "source": [
    "def get_link_date(el):\n",
    "    temp=\n",
    "    return url, date"
   ]
  },
  {
   "cell_type": "markdown",
   "metadata": {},
   "source": [
    "You may want to check that it works as you expected.\n",
    "\n",
    "Once that's working, let's write another function to parse all of the links on a page.  Thinking ahead, we can make it take a Requests [Response](http://docs.python-requests.org/en/master/api/#requests.Response) object and do the BeautifulSoup parsing within it."
   ]
  },
  {
   "cell_type": "code",
   "execution_count": null,
   "metadata": {},
   "outputs": [],
   "source": [
    "def get_links(response):\n",
    "    return ... # A list of URL, date pairs"
   ]
  },
  {
   "cell_type": "markdown",
   "metadata": {},
   "source": [
    "If we run this on the previous response, we should get 50 pairs."
   ]
  },
  {
   "cell_type": "code",
   "execution_count": null,
   "metadata": {},
   "outputs": [],
   "source": [
    "assert len(get_links(page)) == 50"
   ]
  },
  {
   "cell_type": "markdown",
   "metadata": {},
   "source": [
    "But we only want parties with dates on or before the first of December, 2014.  Let's write a function to filter our list of dates to those at or before a cutoff.  Using a keyword argument, we can put in a default cutoff, but allow us to test with others."
   ]
  },
  {
   "cell_type": "code",
   "execution_count": null,
   "metadata": {
    "ExecuteTime": {
     "end_time": "2018-09-11T18:58:41.826517Z",
     "start_time": "2018-09-11T18:58:41.607988Z"
    }
   },
   "outputs": [],
   "source": [
    "get_Date_Link(31).Link.values"
   ]
  },
  {
   "cell_type": "code",
   "execution_count": null,
   "metadata": {},
   "outputs": [],
   "source": [
    "def filter_by_date(links, cutoff=datetime(2014, 12, 1)):\n",
    "    # Return only the elements with date <= cutoff"
   ]
  },
  {
   "cell_type": "markdown",
   "metadata": {},
   "source": [
    "With the default cutoff, there should be no valid parties on the first page.  Adjust the cutoff date to check that it is actually working."
   ]
  },
  {
   "cell_type": "code",
   "execution_count": null,
   "metadata": {},
   "outputs": [],
   "source": [
    "assert len(filter_by_date(get_links(page))) == 0"
   ]
  },
  {
   "cell_type": "markdown",
   "metadata": {},
   "source": [
    "Now we should be ready to get all of the party URLs.  Click through a few of the index pages to determine how the URL changes.  Figure out a strategy to visit all of them.\n",
    "\n",
    "HTTP requests are generally IO-bound.  This means that most of the time is spent waiting for the remote server to respond.  If you use `requests` directly, you can only wait on one response at a time.  [requests-futures](https://github.com/ross/requests-futures) lets you wait for multiple requests at a time.  You may wish to use this to speed up the downloading process."
   ]
  },
  {
   "cell_type": "code",
   "execution_count": 9,
   "metadata": {
    "ExecuteTime": {
     "end_time": "2018-09-13T02:22:40.863984Z",
     "start_time": "2018-09-13T02:22:40.859792Z"
    }
   },
   "outputs": [],
   "source": [
    "from requests_futures.sessions import FuturesSession\n",
    "\n",
    "link_list = []\n",
    "# You can use link_list.extend(others) to add the elements of others\n",
    "# to link_list."
   ]
  },
  {
   "cell_type": "code",
   "execution_count": null,
   "metadata": {
    "ExecuteTime": {
     "end_time": "2018-09-11T19:54:10.275676Z",
     "start_time": "2018-09-11T19:54:10.271449Z"
    }
   },
   "outputs": [],
   "source": []
  },
  {
   "cell_type": "code",
   "execution_count": null,
   "metadata": {
    "ExecuteTime": {
     "end_time": "2018-09-11T19:59:00.090541Z",
     "start_time": "2018-09-11T19:58:58.701554Z"
    }
   },
   "outputs": [],
   "source": [
    "link_list=[[],[]]\n",
    "for i in range(31,-1,-1):\n",
    "    temp=get_Date_Link(i)\n",
    "    \n",
    "    if temp.Date[0] > datetime(2014, 12, 1):\n",
    "        temp2=temp[temp.Date <= datetime(2014, 12, 1)]\n",
    "        link_list[0].extend(temp2.Link.values)\n",
    "        link_list[1].extend(temp2.Date.values)\n",
    "        break\n",
    "    \n",
    "    link_list[0].extend(temp.Link.values)\n",
    "    link_list[1].extend(temp.Date.values)\n",
    "    "
   ]
  },
  {
   "cell_type": "markdown",
   "metadata": {},
   "source": [
    "In the end, you should have 1193 parties."
   ]
  },
  {
   "cell_type": "code",
   "execution_count": null,
   "metadata": {
    "ExecuteTime": {
     "end_time": "2018-09-11T19:59:01.710774Z",
     "start_time": "2018-09-11T19:59:01.707069Z"
    }
   },
   "outputs": [],
   "source": [
    "len(link_list[0])"
   ]
  },
  {
   "cell_type": "code",
   "execution_count": null,
   "metadata": {
    "ExecuteTime": {
     "end_time": "2018-09-11T19:59:03.518790Z",
     "start_time": "2018-09-11T19:59:03.516007Z"
    }
   },
   "outputs": [],
   "source": [
    "assert len(link_list[0]) == 1193"
   ]
  },
  {
   "cell_type": "markdown",
   "metadata": {},
   "source": [
    "In case we need to restart the notebook, we should save this information to a file.  There are many ways you could do this; here's one using `dill`."
   ]
  },
  {
   "cell_type": "code",
   "execution_count": null,
   "metadata": {},
   "outputs": [],
   "source": []
  },
  {
   "cell_type": "code",
   "execution_count": null,
   "metadata": {
    "ExecuteTime": {
     "end_time": "2018-09-11T19:59:06.368039Z",
     "start_time": "2018-09-11T19:59:06.220461Z"
    }
   },
   "outputs": [],
   "source": [
    "dill.dump(link_list, open('nysd-links.pkd', 'wb'))"
   ]
  },
  {
   "cell_type": "markdown",
   "metadata": {},
   "source": [
    "To restore the list, we can just load it from the file.  When the notebook is restarted, you can skip the code above and just run this command."
   ]
  },
  {
   "cell_type": "code",
   "execution_count": 10,
   "metadata": {
    "ExecuteTime": {
     "end_time": "2018-09-13T02:22:48.596341Z",
     "start_time": "2018-09-13T02:22:48.587358Z"
    }
   },
   "outputs": [],
   "source": [
    "link_list = dill.load(open('nysd-links.pkd', 'rb'))"
   ]
  },
  {
   "cell_type": "code",
   "execution_count": 11,
   "metadata": {
    "ExecuteTime": {
     "end_time": "2018-09-13T02:22:51.425235Z",
     "start_time": "2018-09-13T02:22:51.419213Z"
    }
   },
   "outputs": [
    {
     "data": {
      "text/plain": [
       "1193"
      ]
     },
     "execution_count": 11,
     "metadata": {},
     "output_type": "execute_result"
    }
   ],
   "source": [
    "len(link_list[0])"
   ]
  },
  {
   "cell_type": "markdown",
   "metadata": {},
   "source": [
    "## Question 1: histogram\n"
   ]
  },
  {
   "cell_type": "markdown",
   "metadata": {},
   "source": [
    "Get the number of party pages for the 95 months (that is, month-year pair) in the data.  Notice that while the party codes might be written as \"FRIDAY, FEBRUARY 28, 2014\", in this output, you would have to represent the month-year code as \"Feb-2014\".  This can all be done with `strftime` and the [format codes for dates](https://docs.python.org/3/library/datetime.html#strftime-and-strptime-behavior).\n",
    "\n",
    "Plot the histogram for yourself.  Do you see any trends?"
   ]
  },
  {
   "cell_type": "code",
   "execution_count": 12,
   "metadata": {
    "ExecuteTime": {
     "end_time": "2018-09-13T02:22:56.514572Z",
     "start_time": "2018-09-13T02:22:56.508391Z"
    }
   },
   "outputs": [],
   "source": [
    "data=pd.DataFrame()\n",
    "data['Link']=link_list[0]\n",
    "data['Date']=link_list[1]"
   ]
  },
  {
   "cell_type": "code",
   "execution_count": 13,
   "metadata": {
    "ExecuteTime": {
     "end_time": "2018-09-13T02:23:00.119903Z",
     "start_time": "2018-09-13T02:23:00.109310Z"
    }
   },
   "outputs": [],
   "source": [
    "data['Month_Year']=data.Date.dt.strftime('%b-%Y')"
   ]
  },
  {
   "cell_type": "code",
   "execution_count": 15,
   "metadata": {
    "ExecuteTime": {
     "end_time": "2018-09-13T02:23:14.633675Z",
     "start_time": "2018-09-13T02:23:13.902883Z"
    }
   },
   "outputs": [
    {
     "name": "stdout",
     "output_type": "stream",
     "text": [
      "==================\n",
      "Your score:  1.0\n",
      "==================\n"
     ]
    }
   ],
   "source": [
    "def histogram():\n",
    "    temp=data['Month_Year'].value_counts()\n",
    "    temp2int=[int(i) for i in temp.values]\n",
    "    return list(zip(temp.index,temp2int))\n",
    "    \n",
    "grader.score(question_name='graph__histogram', func=histogram)"
   ]
  },
  {
   "cell_type": "markdown",
   "metadata": {},
   "source": [
    "## Phase Two\n"
   ]
  },
  {
   "cell_type": "markdown",
   "metadata": {},
   "source": [
    "In this phase, we we concentrate on getting the names out of captions for a given page.  We'll start with [the benefit cocktails and dinner](http://www.newyorksocialdiary.com/party-pictures/2015/celebrating-the-neighborhood) for [Lenox Hill Neighborhood House](http://www.lenoxhill.org/), a neighborhood organization for the East Side.\n",
    "\n",
    "Take a look at that page.  Note that some of the text on the page is captions, but others are descriptions of the event.  Determine how to select only the captions."
   ]
  },
  {
   "cell_type": "code",
   "execution_count": 32,
   "metadata": {
    "ExecuteTime": {
     "end_time": "2018-09-13T11:52:05.641451Z",
     "start_time": "2018-09-13T11:52:05.367543Z"
    }
   },
   "outputs": [],
   "source": [
    "page_1=requests.get('http://www.newyorksocialdiary.com/party-pictures/2015/celebrating-the-neighborhood')"
   ]
  },
  {
   "cell_type": "code",
   "execution_count": 33,
   "metadata": {
    "ExecuteTime": {
     "end_time": "2018-09-13T11:52:06.813926Z",
     "start_time": "2018-09-13T11:52:06.712371Z"
    }
   },
   "outputs": [],
   "source": [
    "soup_1= BeautifulSoup(page_1.text, \"lxml\")\n",
    "temp=soup_1.findAll('div', attrs={'class':'photocaption'})\n"
   ]
  },
  {
   "cell_type": "code",
   "execution_count": 38,
   "metadata": {
    "ExecuteTime": {
     "end_time": "2018-09-13T12:34:24.510164Z",
     "start_time": "2018-09-13T12:34:24.505566Z"
    }
   },
   "outputs": [
    {
     "data": {
      "text/plain": [
       "['http://www.newyorksocialdiary.com/party-pictures/2007/springing-to-life',\n",
       " 'http://www.newyorksocialdiary.com/party-pictures/2007/the-wedding-of-lara-meiland-and-claude-shaw',\n",
       " 'http://www.newyorksocialdiary.com/party-pictures/2007/narsad-autism-speaks-the-links',\n",
       " 'http://www.newyorksocialdiary.com/party-pictures/2007/oath-for-darfur-dress-for-success-free-arts-bentley-unveils',\n",
       " 'http://www.newyorksocialdiary.com/party-pictures/2007/dressed-to-kilt-dressing',\n",
       " 'http://www.newyorksocialdiary.com/party-pictures/2007/hoppin-down-the-bunny-trail-the-boys-town-of-italy',\n",
       " 'http://www.newyorksocialdiary.com/party-pictures/2007/the-auto-show-a-book-party-and-an-anniversary',\n",
       " 'http://www.newyorksocialdiary.com/party-pictures/2007/monday-roundup',\n",
       " 'http://www.newyorksocialdiary.com/party-pictures/2007/great-chefs-and-great-film-0',\n",
       " 'http://www.newyorksocialdiary.com/party-pictures/2007/citymeals-nyers-for-children-churchill-foundation']"
      ]
     },
     "execution_count": 38,
     "metadata": {},
     "output_type": "execute_result"
    }
   ],
   "source": [
    "link_list[0][:10]"
   ]
  },
  {
   "cell_type": "code",
   "execution_count": 1,
   "metadata": {
    "ExecuteTime": {
     "end_time": "2019-01-15T16:33:20.817416Z",
     "start_time": "2019-01-15T16:33:20.814735Z"
    }
   },
   "outputs": [],
   "source": [
    "# def myhtmlcall(url):\n",
    "    \n",
    "#     return requests.get(url).text\n",
    "    \n",
    "# p = Pool(24)\n",
    "# newobj  = p.map(myhtmlcall, link_list[0])\n",
    "\n"
   ]
  },
  {
   "cell_type": "code",
   "execution_count": 40,
   "metadata": {
    "ExecuteTime": {
     "end_time": "2018-09-13T12:37:47.544005Z",
     "start_time": "2018-09-13T12:37:47.234068Z"
    }
   },
   "outputs": [],
   "source": [
    "\n",
    "# save to pickle\n",
    "with open(\"all_div_all_captions_full.pickle\", \"wb\") as file:\n",
    "    pk.dump(newobj, file)"
   ]
  },
  {
   "cell_type": "code",
   "execution_count": 60,
   "metadata": {
    "ExecuteTime": {
     "end_time": "2018-09-13T03:46:11.294055Z",
     "start_time": "2018-09-13T03:46:11.289643Z"
    }
   },
   "outputs": [],
   "source": [
    "acaption=[i.text for i in temp if i.text]"
   ]
  },
  {
   "cell_type": "code",
   "execution_count": 30,
   "metadata": {
    "ExecuteTime": {
     "end_time": "2018-09-13T11:51:21.729682Z",
     "start_time": "2018-09-13T11:51:21.725814Z"
    }
   },
   "outputs": [],
   "source": [
    "acaption=get_captions('http://www.newyorksocialdiary.com/party-pictures/2015/celebrating-the-neighborhood')"
   ]
  },
  {
   "cell_type": "code",
   "execution_count": 31,
   "metadata": {
    "ExecuteTime": {
     "end_time": "2018-09-13T11:51:22.937292Z",
     "start_time": "2018-09-13T11:51:22.933258Z"
    }
   },
   "outputs": [
    {
     "data": {
      "text/plain": [
       "104"
      ]
     },
     "execution_count": 31,
     "metadata": {},
     "output_type": "execute_result"
    }
   ],
   "source": [
    "len(acaption)"
   ]
  },
  {
   "cell_type": "code",
   "execution_count": 2,
   "metadata": {
    "ExecuteTime": {
     "end_time": "2019-01-15T16:33:33.733420Z",
     "start_time": "2019-01-15T16:33:33.538414Z"
    }
   },
   "outputs": [
    {
     "ename": "NameError",
     "evalue": "name 'BeautifulSoup' is not defined",
     "output_type": "error",
     "traceback": [
      "\u001b[0;31m---------------------------------------------------------------------------\u001b[0m",
      "\u001b[0;31mNameError\u001b[0m                                 Traceback (most recent call last)",
      "\u001b[0;32m<ipython-input-2-5ef59ff0d768>\u001b[0m in \u001b[0;36m<module>\u001b[0;34m\u001b[0m\n\u001b[1;32m      1\u001b[0m \u001b[0;31m#page_1=requests.get(path)\u001b[0m\u001b[0;34m\u001b[0m\u001b[0;34m\u001b[0m\u001b[0;34m\u001b[0m\u001b[0m\n\u001b[0;32m----> 2\u001b[0;31m \u001b[0msoup\u001b[0m\u001b[0;34m=\u001b[0m\u001b[0mBeautifulSoup\u001b[0m\u001b[0;34m(\u001b[0m\u001b[0mpage_1\u001b[0m\u001b[0;34m.\u001b[0m\u001b[0mtext\u001b[0m\u001b[0;34m,\u001b[0m\u001b[0;34m'lxml'\u001b[0m\u001b[0;34m)\u001b[0m\u001b[0;34m\u001b[0m\u001b[0;34m\u001b[0m\u001b[0m\n\u001b[0m\u001b[1;32m      3\u001b[0m \u001b[0mcaption_divs\u001b[0m\u001b[0;34m=\u001b[0m \u001b[0msoup\u001b[0m\u001b[0;34m.\u001b[0m\u001b[0mfind_all\u001b[0m\u001b[0;34m(\u001b[0m\u001b[0;34m'font'\u001b[0m\u001b[0;34m,\u001b[0m \u001b[0mattrs\u001b[0m\u001b[0;34m=\u001b[0m\u001b[0;34m{\u001b[0m\u001b[0;34m'face'\u001b[0m\u001b[0;34m:\u001b[0m \u001b[0;34m'Verdana, Arial, Helvetica, sans-serif'\u001b[0m\u001b[0;34m}\u001b[0m\u001b[0;34m)\u001b[0m\u001b[0;34m\u001b[0m\u001b[0;34m\u001b[0m\u001b[0m\n\u001b[1;32m      4\u001b[0m \u001b[0mcaption_divs\u001b[0m\u001b[0;34m.\u001b[0m\u001b[0mextend\u001b[0m\u001b[0;34m(\u001b[0m\u001b[0msoup_1\u001b[0m\u001b[0;34m.\u001b[0m\u001b[0mfindAll\u001b[0m\u001b[0;34m(\u001b[0m\u001b[0;34m'div'\u001b[0m\u001b[0;34m,\u001b[0m \u001b[0mattrs\u001b[0m\u001b[0;34m=\u001b[0m\u001b[0;34m{\u001b[0m\u001b[0;34m'class'\u001b[0m\u001b[0;34m:\u001b[0m\u001b[0;34m'photocaption'\u001b[0m\u001b[0;34m}\u001b[0m\u001b[0;34m)\u001b[0m\u001b[0;34m)\u001b[0m\u001b[0;34m\u001b[0m\u001b[0;34m\u001b[0m\u001b[0m\n\u001b[1;32m      5\u001b[0m \u001b[0;31m# caption_divs.extend(soup.find_all(\"td\", {'valign': 'top', 'class': 'photocaption'}, text=True))\u001b[0m\u001b[0;34m\u001b[0m\u001b[0;34m\u001b[0m\u001b[0;34m\u001b[0m\u001b[0m\n",
      "\u001b[0;31mNameError\u001b[0m: name 'BeautifulSoup' is not defined"
     ]
    }
   ],
   "source": [
    "#page_1=requests.get(path)\n",
    "soup=BeautifulSoup(page_1.text,'lxml')\n",
    "caption_divs= soup.find_all('font', attrs={'face': 'Verdana, Arial, Helvetica, sans-serif'}) \n",
    "caption_divs.extend(soup_1.findAll('div', attrs={'class':'photocaption'}))\n",
    "# caption_divs.extend(soup.find_all(\"td\", {'valign': 'top', 'class': 'photocaption'}, text=True))\n",
    "# caption_divs.extend(soup.find_all(\"td\", {'valign': 'top', 'class': 'photocaption', 'style': 'background-color:#faf9ee'}, text=True))\n",
    "acaption2=[i.text for i in caption_divs if i.text]"
   ]
  },
  {
   "cell_type": "code",
   "execution_count": 35,
   "metadata": {
    "ExecuteTime": {
     "end_time": "2018-09-13T11:52:16.254677Z",
     "start_time": "2018-09-13T11:52:16.250303Z"
    }
   },
   "outputs": [
    {
     "data": {
      "text/plain": [
       "109"
      ]
     },
     "execution_count": 35,
     "metadata": {},
     "output_type": "execute_result"
    }
   ],
   "source": [
    "len(acaption2)"
   ]
  },
  {
   "cell_type": "code",
   "execution_count": 29,
   "metadata": {
    "ExecuteTime": {
     "end_time": "2018-09-13T11:51:13.567266Z",
     "start_time": "2018-09-13T11:51:13.557350Z"
    }
   },
   "outputs": [
    {
     "ename": "NameError",
     "evalue": "name 'acaption' is not defined",
     "output_type": "error",
     "traceback": [
      "\u001b[0;31m---------------------------------------------------------------------------\u001b[0m",
      "\u001b[0;31mNameError\u001b[0m                                 Traceback (most recent call last)",
      "\u001b[0;32m<ipython-input-29-1baaec14949c>\u001b[0m in \u001b[0;36m<module>\u001b[0;34m()\u001b[0m\n\u001b[0;32m----> 1\u001b[0;31m \u001b[0mcaptions\u001b[0m \u001b[0;34m=\u001b[0m \u001b[0macaption\u001b[0m\u001b[0;34m\u001b[0m\u001b[0m\n\u001b[0m",
      "\u001b[0;31mNameError\u001b[0m: name 'acaption' is not defined"
     ]
    }
   ],
   "source": [
    "captions = acaption"
   ]
  },
  {
   "cell_type": "markdown",
   "metadata": {},
   "source": [
    "By our count, there are about 110.  But if you're off by a couple, you're probably okay."
   ]
  },
  {
   "cell_type": "code",
   "execution_count": 70,
   "metadata": {
    "ExecuteTime": {
     "end_time": "2018-09-13T03:51:18.415715Z",
     "start_time": "2018-09-13T03:51:18.412797Z"
    }
   },
   "outputs": [],
   "source": [
    "assert abs(len(captions) - 110) < 5"
   ]
  },
  {
   "cell_type": "markdown",
   "metadata": {},
   "source": [
    "Let's encapsulate this in a function.  As with the links pages, we want to avoid downloading a given page the next time we need to run the notebook.  While we could save the files by hand, as we did before, a checkpoint library like [ediblepickle](https://pypi.python.org/pypi/ediblepickle/1.1.3) can handle this for you.  (Note, though, that you may not want to enable this until you are sure that your function is working.)\n",
    "\n",
    "You should also keep in mind that HTTP requests fail occasionally, for transient reasons.  You should plan how to detect and react to these failures.   The [retrying module](https://pypi.python.org/pypi/retrying) is one way to deal with this."
   ]
  },
  {
   "cell_type": "code",
   "execution_count": 19,
   "metadata": {
    "ExecuteTime": {
     "end_time": "2018-09-13T11:47:25.803922Z",
     "start_time": "2018-09-13T11:47:25.799136Z"
    }
   },
   "outputs": [],
   "source": [
    "from ediblepickle import checkpoint\n",
    "import os\n",
    "from urllib.parse import quote\n",
    "from urllib.request import urlopen\n",
    "\n",
    "cache_dir = 'graph_cache_new'\n",
    "if not os.path.exists(cache_dir):\n",
    "    os.mkdir(cache_dir)\n"
   ]
  },
  {
   "cell_type": "code",
   "execution_count": 20,
   "metadata": {
    "ExecuteTime": {
     "end_time": "2018-09-13T11:47:33.055870Z",
     "start_time": "2018-09-13T11:47:33.051045Z"
    }
   },
   "outputs": [],
   "source": [
    "\n",
    "@checkpoint(key=lambda args, kwargs: quote(args[0].split('/')[-1]) + '.p', work_dir=cache_dir)\n",
    "def get_captions(path):\n",
    "    page_1=requests.get(path)\n",
    "    soup=BeautifulSoup(page_1.text,'lxml')\n",
    "    caption_divs= soup.find_all('font', attrs={'face': 'Verdana, Arial, Helvetica, sans-serif'}) \n",
    "    caption_divs.extend(soup_1.findAll('div', attrs={'class':'photocaption'}))\n",
    "#     caption_divs.extend(soup.find_all(\"td\", {'valign': 'top', 'class': 'photocaption'}, text=True))\n",
    "#     caption_divs.extend(soup.find_all(\"td\", {'valign': 'top', 'class': 'photocaption', 'style': 'background-color:#faf9ee'}, text=True))\n",
    "    \n",
    "    return [i.text for i in caption_divs]\n",
    "    "
   ]
  },
  {
   "cell_type": "markdown",
   "metadata": {},
   "source": [
    "This should get the same captions as before."
   ]
  },
  {
   "cell_type": "code",
   "execution_count": 22,
   "metadata": {
    "ExecuteTime": {
     "end_time": "2018-09-13T11:48:16.831229Z",
     "start_time": "2018-09-13T11:48:16.738096Z"
    }
   },
   "outputs": [],
   "source": [
    "link_list=load_file('link_list')"
   ]
  },
  {
   "cell_type": "code",
   "execution_count": 23,
   "metadata": {
    "ExecuteTime": {
     "end_time": "2018-09-13T11:48:17.910368Z",
     "start_time": "2018-09-13T11:48:17.831540Z"
    }
   },
   "outputs": [],
   "source": [
    "All_captions_new2=list(map(get_captions,link_list[0]))"
   ]
  },
  {
   "cell_type": "code",
   "execution_count": 79,
   "metadata": {
    "ExecuteTime": {
     "end_time": "2018-09-13T03:54:16.574449Z",
     "start_time": "2018-09-13T03:54:16.132149Z"
    }
   },
   "outputs": [
    {
     "name": "stdout",
     "output_type": "stream",
     "text": [
      "All_captions       grader.R          link_list  list_600   nysd-links.pkd\r\n",
      "SQL.ipynb          graph.ipynb       list_100   list_900   total_name_list\r\n",
      "assignment1.ipynb  \u001b[0m\u001b[01;34mgraph_cache_new\u001b[0m/  list_200   list_rest\r\n"
     ]
    }
   ],
   "source": [
    "ls"
   ]
  },
  {
   "cell_type": "code",
   "execution_count": 86,
   "metadata": {
    "ExecuteTime": {
     "end_time": "2018-09-13T04:06:15.023726Z",
     "start_time": "2018-09-13T04:06:14.985165Z"
    }
   },
   "outputs": [],
   "source": [
    "#dump_file('All_captions_new',All_captions) "
   ]
  },
  {
   "cell_type": "code",
   "execution_count": 111,
   "metadata": {
    "ExecuteTime": {
     "end_time": "2018-09-13T04:26:54.313471Z",
     "start_time": "2018-09-13T04:26:53.767586Z"
    }
   },
   "outputs": [
    {
     "data": {
      "text/plain": [
       "100008"
      ]
     },
     "execution_count": 111,
     "metadata": {},
     "output_type": "execute_result"
    }
   ],
   "source": [
    "len(sum(All_captions,[]))"
   ]
  },
  {
   "cell_type": "code",
   "execution_count": 87,
   "metadata": {
    "ExecuteTime": {
     "end_time": "2018-09-13T04:06:26.865103Z",
     "start_time": "2018-09-13T04:06:25.915178Z"
    }
   },
   "outputs": [
    {
     "data": {
      "text/plain": [
       "159095"
      ]
     },
     "execution_count": 87,
     "metadata": {},
     "output_type": "execute_result"
    }
   ],
   "source": [
    "len(sum(All_captions_new,[]))"
   ]
  },
  {
   "cell_type": "code",
   "execution_count": 24,
   "metadata": {
    "ExecuteTime": {
     "end_time": "2018-09-13T11:48:44.221200Z",
     "start_time": "2018-09-13T11:48:43.673656Z"
    }
   },
   "outputs": [
    {
     "data": {
      "text/plain": [
       "100008"
      ]
     },
     "execution_count": 24,
     "metadata": {},
     "output_type": "execute_result"
    }
   ],
   "source": [
    "len(sum(All_captions_new2,[]))"
   ]
  },
  {
   "cell_type": "code",
   "execution_count": null,
   "metadata": {},
   "outputs": [],
   "source": [
    "# from multiprocessing import Pool\n",
    "# pool = Pool(processes=24)\n",
    "# pool.map(func, input_list)"
   ]
  },
  {
   "cell_type": "code",
   "execution_count": null,
   "metadata": {
    "ExecuteTime": {
     "end_time": "2018-09-13T01:47:53.142500Z",
     "start_time": "2018-09-13T01:47:53.065792Z"
    }
   },
   "outputs": [],
   "source": [
    "# from multiprocessing import Pool\n",
    "# p = Pool(24)\n",
    "All_captions= list(map(get_captions, link_list[0]))\n",
    "# def get_all_captions(link_list):\n",
    "#     All_captions=[]\n",
    "#     for link in link_list:\n",
    "#         All_captions.append(get_captions(link))"
   ]
  },
  {
   "cell_type": "markdown",
   "metadata": {},
   "source": [
    "Now that we have some sample captions, let's start parsing names out of those captions.  There are many ways of going about this, and we leave the details up to you.  Some issues to consider:\n",
    "\n",
    "  1. Some captions are not useful: they contain long narrative texts that explain the event.  Try to find some heuristic rules to separate captions that are a list of names from those that are not.  A few heuristics include:\n",
    "    - look for sentences (which have verbs) and as opposed to lists of nouns. For example, [`nltk` does part of speech tagging](http://www.nltk.org/book/ch05.html) but it is a little slow. There may also be heuristics that accomplish the same thing.\n",
    "    - Similarly, spaCy's [entity recognition](https://spacy.io/docs/usage/entity-recognition) could be useful here.\n",
    "    - Look for commonly repeated threads (e.g. you might end up picking up the photo credits or people such as \"a friend\").\n",
    "    - Long captions are often not lists of people.  The cutoff is subjective, but for grading purposes, *set that cutoff at 250 characters*.\n",
    "  2. You will want to separate the captions based on various forms of punctuation.  Try using `re.split`, which is more sophisticated than `string.split`. **Note**: The reference solution uses regex exclusively for name parsing.\n",
    "  3. You might find a person named \"ra Lebenthal\".  There is no one by this name.  Can anyone spot what's happening here?\n",
    "  4. This site is pretty formal and likes to say things like \"Mayor Michael Bloomberg\" after his election but \"Michael Bloomberg\" before his election.  Can you find other ('optional') titles that are being used?  They should probably be filtered out because they ultimately refer to the same person: \"Michael Bloomberg.\"\n",
    "  5. There is a special case you might find where couples are written as eg. \"John and Mary Smith\". You will need to write some extra logic to make sure this properly parses to two names: \"John Smith\" and \"Mary Smith\".\n",
    "  6. When parsing names from captions, it can help to look at your output frequently and address the problems that you see coming up, iterating until you have a list that looks reasonable. This is the approach used in the reference solution. Because we can only asymptotically approach perfect identification and entity matching, we have to stop somewhere.\n",
    "  \n",
    "**Questions worth considering:**\n",
    "  1. Who is Patrick McMullan and should he be included in the results? How would you address this?\n",
    "  2. What else could you do to improve the quality of the graph's information?"
   ]
  },
  {
   "cell_type": "code",
   "execution_count": 32,
   "metadata": {
    "ExecuteTime": {
     "end_time": "2018-09-13T02:46:19.633734Z",
     "start_time": "2018-09-13T02:46:17.868486Z"
    }
   },
   "outputs": [],
   "source": [
    "# import spacy\n",
    "\n",
    "# nlp = spacy.load('en_core_web_sm')"
   ]
  },
  {
   "cell_type": "code",
   "execution_count": 37,
   "metadata": {
    "ExecuteTime": {
     "end_time": "2018-09-13T02:57:07.686212Z",
     "start_time": "2018-09-13T02:57:07.407034Z"
    },
    "scrolled": true
   },
   "outputs": [],
   "source": [
    "# from multiprocessing import Pool\n",
    "# pool = Pool(processes=24)\n",
    "# import traceback\n",
    "\n",
    "# def cap2name(captions):\n",
    "#     name_list=[]\n",
    "#     husband=False\n",
    "    \n",
    "#     for i in captions:\n",
    "        \n",
    "#         if len(i) > 250:\n",
    "#             continue\n",
    "        \n",
    "#         strings=\" \".join(i.split())\n",
    "#         try: \n",
    "#             doc=nlp(strings)\n",
    "#             temp_list=[]\n",
    "#             for ent in doc.ents:\n",
    "#                 if ent.label_ == 'PERSON':\n",
    "#                     temp=str(ent)\n",
    "#                     if husband and len(temp_list) > 0:\n",
    "#                         if len(temp.split())>1:\n",
    "#                             update_husband=temp_list.pop()+' '+temp.split()[1]\n",
    "#                             temp_list.append(update_husband)\n",
    "\n",
    "#                         husband= False\n",
    "#                     if len(temp.split()) ==1:\n",
    "#                         husband=True\n",
    "        \n",
    "\n",
    "#                     temp_list.append(temp)\n",
    "#             if len(temp_list)>0:\n",
    "#                 name_list.append(temp_list)\n",
    "#         except Exception as e:\n",
    "#             print(\"type error: \" + str(e))\n",
    "#             print(traceback.format_exc())\n",
    "            \n",
    "#             continue\n",
    "#     return name_list\n",
    "                "
   ]
  },
  {
   "cell_type": "code",
   "execution_count": 44,
   "metadata": {
    "ExecuteTime": {
     "end_time": "2018-09-13T03:06:56.282137Z",
     "start_time": "2018-09-13T03:06:56.277643Z"
    }
   },
   "outputs": [
    {
     "data": {
      "text/plain": [
       "['Elizabeth Meigher and Bonnie Morrison ',\n",
       " 'Byrdie Bell, Edward Barsamian, and Serena Nakkahah',\n",
       " 'Dayssi Olarte de Kanavos and Ashley McDermott ',\n",
       " 'Chessy Wilson and Lily Maddock',\n",
       " 'Andrew and Rachel',\n",
       " 'Billy Norwich and  Andre Balazs ',\n",
       " 'Stephanie Thompson and Aida Khoursheed',\n",
       " 'Gene Seidman, Linda Thompson, Tom Krizmanic, and friend ',\n",
       " 'Nathaniel Shuman, David Shuman, Ruth Lande Shuman, and Michael Shuman',\n",
       " 'Benjamin Moore executives',\n",
       " 'Mayor Bloomberg and Ruth Lande Shuman',\n",
       " 'Michelle Oka Doner and Lara Rubin',\n",
       " 'Ruth Lande Shuman, Mayor Bloomberg, Jeanne-Claude and Christo, and Patti Harris',\n",
       " 'Publicolor kids',\n",
       " 'Verone Kennedy, Chancellor Joel Klein, and Deven Parekh',\n",
       " 'Caroline Kennedy',\n",
       " 'Auctioneer Sebastian Clarke',\n",
       " 'Cynthia Rowley',\n",
       " 'Nathaniel Shuman, Ruth Lande Shuman, and Michael Shuman',\n",
       " 'Ruth Lande Shuman, Richard Segal, Carmen Thain, and Gene Mercy']"
      ]
     },
     "execution_count": 44,
     "metadata": {},
     "output_type": "execute_result"
    }
   ],
   "source": [
    "All_captions[0][20:40]"
   ]
  },
  {
   "cell_type": "code",
   "execution_count": 45,
   "metadata": {
    "ExecuteTime": {
     "end_time": "2018-09-13T03:07:34.430897Z",
     "start_time": "2018-09-13T03:07:34.426083Z"
    }
   },
   "outputs": [
    {
     "data": {
      "text/plain": [
       "['Ruth Lande Shuman', 'Mayor Bloomberg', 'Patti Harris']"
      ]
     },
     "execution_count": 45,
     "metadata": {},
     "output_type": "execute_result"
    }
   ],
   "source": [
    "re.findall(r'''([A-Z][a-z]+(?=\\s[A-Z])(?:\\s[A-Z][a-z]+)+)''',All_captions[0][32])"
   ]
  },
  {
   "cell_type": "code",
   "execution_count": 47,
   "metadata": {
    "ExecuteTime": {
     "end_time": "2018-09-13T03:23:43.427605Z",
     "start_time": "2018-09-13T03:23:43.423835Z"
    }
   },
   "outputs": [],
   "source": [
    "a=re.search('^\\s*([^\\s].+[^\\s])\\s*$', All_captions[0][32], re.DOTALL)"
   ]
  },
  {
   "cell_type": "code",
   "execution_count": 48,
   "metadata": {
    "ExecuteTime": {
     "end_time": "2018-09-13T03:23:48.532946Z",
     "start_time": "2018-09-13T03:23:48.528781Z"
    }
   },
   "outputs": [
    {
     "data": {
      "text/plain": [
       "'Ruth Lande Shuman, Mayor Bloomberg, Jeanne-Claude and Christo, and Patti Harris'"
      ]
     },
     "execution_count": 48,
     "metadata": {},
     "output_type": "execute_result"
    }
   ],
   "source": [
    "a.group(1)"
   ]
  },
  {
   "cell_type": "code",
   "execution_count": 5,
   "metadata": {
    "ExecuteTime": {
     "end_time": "2018-09-13T11:38:19.153127Z",
     "start_time": "2018-09-13T11:38:19.122112Z"
    }
   },
   "outputs": [],
   "source": [
    "All_captions_new=load_file('All_captions_new')"
   ]
  },
  {
   "cell_type": "code",
   "execution_count": 97,
   "metadata": {
    "ExecuteTime": {
     "end_time": "2018-09-13T04:19:34.158162Z",
     "start_time": "2018-09-13T04:19:34.151048Z"
    }
   },
   "outputs": [],
   "source": [
    "Name1=list(map(get_names,captions))"
   ]
  },
  {
   "cell_type": "code",
   "execution_count": 97,
   "metadata": {
    "ExecuteTime": {
     "end_time": "2018-09-13T04:19:34.158162Z",
     "start_time": "2018-09-13T04:19:34.151048Z"
    }
   },
   "outputs": [],
   "source": [
    "Name1=list(map(get_names,captions))"
   ]
  },
  {
   "cell_type": "code",
   "execution_count": 106,
   "metadata": {
    "ExecuteTime": {
     "end_time": "2018-09-13T04:21:50.734814Z",
     "start_time": "2018-09-13T04:21:50.731693Z"
    }
   },
   "outputs": [],
   "source": [
    "Name2=list(set(sum(Name1,[])))"
   ]
  },
  {
   "cell_type": "code",
   "execution_count": 107,
   "metadata": {
    "ExecuteTime": {
     "end_time": "2018-09-13T04:21:52.870518Z",
     "start_time": "2018-09-13T04:21:52.867885Z"
    }
   },
   "outputs": [],
   "source": [
    "Name2.sort()"
   ]
  },
  {
   "cell_type": "code",
   "execution_count": 108,
   "metadata": {
    "ExecuteTime": {
     "end_time": "2018-09-13T04:21:53.642439Z",
     "start_time": "2018-09-13T04:21:53.637811Z"
    }
   },
   "outputs": [
    {
     "data": {
      "text/plain": [
       "['Alberto Villalobos',\n",
       " 'Alex Papachristidis',\n",
       " 'Alexandra Richards',\n",
       " 'Alexis Mersentes',\n",
       " 'Allen Swerdlick',\n",
       " 'Allison Minton',\n",
       " 'Amory McAndrew',\n",
       " 'Andi Potamkin',\n",
       " 'Angela Clofine',\n",
       " 'Anne Strickland']"
      ]
     },
     "execution_count": 108,
     "metadata": {},
     "output_type": "execute_result"
    }
   ],
   "source": [
    "Name2[:10]"
   ]
  },
  {
   "cell_type": "code",
   "execution_count": 110,
   "metadata": {
    "ExecuteTime": {
     "end_time": "2018-09-13T04:25:55.133469Z",
     "start_time": "2018-09-13T04:25:55.130529Z"
    }
   },
   "outputs": [],
   "source": [
    "#dump_file('Name2',Name2)"
   ]
  },
  {
   "cell_type": "markdown",
   "metadata": {},
   "source": [
    "## Question 2: sample_names\n"
   ]
  },
  {
   "cell_type": "markdown",
   "metadata": {},
   "source": [
    "Once you feel that your algorithm is working well on these captions, parse all of the captions and extract all the names mentioned.  Sort them alphabetically, by first name, and return the first hundred."
   ]
  },
  {
   "cell_type": "code",
   "execution_count": 109,
   "metadata": {
    "ExecuteTime": {
     "end_time": "2018-09-13T04:22:01.752651Z",
     "start_time": "2018-09-13T04:21:59.909491Z"
    }
   },
   "outputs": [
    {
     "name": "stdout",
     "output_type": "stream",
     "text": [
      "==================\n",
      "Your score:  0.9500000000000006\n",
      "==================\n"
     ]
    }
   ],
   "source": [
    "def sample_names():\n",
    "    return Name2[:100]\n",
    "\n",
    "grader.score(question_name='graph__sample_names', func=sample_names)"
   ]
  },
  {
   "cell_type": "markdown",
   "metadata": {},
   "source": [
    "Now, run this sort of test on a few other pages.  You will probably find that other pages have a slightly different HTML structure, as well as new captions that trip up your caption parser.  But don't worry if the parser isn't perfect -- just try to get the easy cases."
   ]
  },
  {
   "cell_type": "markdown",
   "metadata": {},
   "source": [
    "## Phase Three\n"
   ]
  },
  {
   "cell_type": "markdown",
   "metadata": {},
   "source": [
    "Once you are satisfied that your caption scraper and parser are working, run this for all of the pages.  If you haven't implemented some caching of the captions, you probably want to do this first."
   ]
  },
  {
   "cell_type": "code",
   "execution_count": 112,
   "metadata": {
    "ExecuteTime": {
     "end_time": "2018-09-13T04:27:10.060226Z",
     "start_time": "2018-09-13T04:27:09.620918Z"
    }
   },
   "outputs": [
    {
     "name": "stdout",
     "output_type": "stream",
     "text": [
      "All_captions       grader.R          list_100   nysd-links.pkd\r\n",
      "All_captions_new   graph.ipynb       list_200   total_name_list\r\n",
      "Name2              \u001b[0m\u001b[01;34mgraph_cache\u001b[0m/      list_600\r\n",
      "SQL.ipynb          \u001b[01;34mgraph_cache_new\u001b[0m/  list_900\r\n",
      "assignment1.ipynb  link_list         list_rest\r\n"
     ]
    }
   ],
   "source": [
    "ls"
   ]
  },
  {
   "cell_type": "code",
   "execution_count": 113,
   "metadata": {
    "ExecuteTime": {
     "end_time": "2018-09-13T04:29:20.053695Z",
     "start_time": "2018-09-13T04:29:20.048464Z"
    }
   },
   "outputs": [],
   "source": [
    "def get_all_connections(All_captions_new):\n",
    "    total_list=[]\n",
    "    for cap in All_captions_new:\n",
    "        names=list(map(get_names,captions))\n",
    "        total_list.append(names)\n",
    "    \n",
    "    return total_list\n",
    "        "
   ]
  },
  {
   "cell_type": "code",
   "execution_count": 120,
   "metadata": {
    "ExecuteTime": {
     "end_time": "2018-09-13T04:32:36.989628Z",
     "start_time": "2018-09-13T04:32:32.089768Z"
    },
    "scrolled": true
   },
   "outputs": [],
   "source": [
    "total_name_list_new=get_all_connections(All_captions_new)"
   ]
  },
  {
   "cell_type": "code",
   "execution_count": 122,
   "metadata": {
    "ExecuteTime": {
     "end_time": "2018-09-13T04:32:57.332333Z",
     "start_time": "2018-09-13T04:32:56.555697Z"
    }
   },
   "outputs": [
    {
     "data": {
      "text/plain": [
       "130037"
      ]
     },
     "execution_count": 122,
     "metadata": {},
     "output_type": "execute_result"
    }
   ],
   "source": [
    "len(sum(total_name_list_new,[]))"
   ]
  },
  {
   "cell_type": "code",
   "execution_count": null,
   "metadata": {
    "ExecuteTime": {
     "end_time": "2018-09-12T23:39:27.091745Z",
     "start_time": "2018-09-12T23:39:27.088871Z"
    }
   },
   "outputs": [],
   "source": [
    "#dump_file('list_100',list_100)\n",
    "# dump_file('list_200',list_200)\n",
    "# dump_file('list_600',list_600)\n",
    "# dump_file('list_900',list_900)\n",
    "# print(load_file('list_200') == list_200) \n",
    "# print(load_file('list_600') == list_600) \n",
    "# print(load_file('list_900') == list_900) \n",
    "# dump_file('list_rest',list_rest)\n",
    "# print(load_file('list_rest') == list_rest)\n",
    "#print(load_file('list_100') == list_100)"
   ]
  },
  {
   "cell_type": "code",
   "execution_count": null,
   "metadata": {
    "ExecuteTime": {
     "end_time": "2018-09-13T00:15:37.490663Z",
     "start_time": "2018-09-13T00:15:37.486811Z"
    }
   },
   "outputs": [],
   "source": [
    "#list_100=load_file('list_100')"
   ]
  },
  {
   "cell_type": "code",
   "execution_count": 121,
   "metadata": {
    "ExecuteTime": {
     "end_time": "2018-09-13T04:32:48.296756Z",
     "start_time": "2018-09-13T04:32:48.167673Z"
    }
   },
   "outputs": [],
   "source": [
    "#dump_file('link_list',link_list)\n",
    "#dump_file('total_name_list_new',total_name_list_new)"
   ]
  },
  {
   "cell_type": "code",
   "execution_count": 38,
   "metadata": {
    "ExecuteTime": {
     "end_time": "2018-09-13T06:34:22.488600Z",
     "start_time": "2018-09-13T06:34:22.308029Z"
    }
   },
   "outputs": [],
   "source": [
    "total_name_list_new=load_file('total_name_list_new')"
   ]
  },
  {
   "cell_type": "code",
   "execution_count": 43,
   "metadata": {
    "ExecuteTime": {
     "end_time": "2018-09-13T06:37:04.224581Z",
     "start_time": "2018-09-13T06:37:04.221553Z"
    }
   },
   "outputs": [],
   "source": [
    "a=sum(total_name_list_new[:2],[])"
   ]
  },
  {
   "cell_type": "code",
   "execution_count": 44,
   "metadata": {
    "ExecuteTime": {
     "end_time": "2018-09-13T06:37:09.876643Z",
     "start_time": "2018-09-13T06:37:09.871725Z"
    }
   },
   "outputs": [
    {
     "data": {
      "text/plain": [
       "218"
      ]
     },
     "execution_count": 44,
     "metadata": {},
     "output_type": "execute_result"
    }
   ],
   "source": [
    "len(a)"
   ]
  },
  {
   "cell_type": "code",
   "execution_count": 46,
   "metadata": {
    "ExecuteTime": {
     "end_time": "2018-09-13T06:38:36.878720Z",
     "start_time": "2018-09-13T06:38:36.874517Z"
    }
   },
   "outputs": [],
   "source": [
    "import itertools\n",
    "import networkx as nx\n",
    "def gen_pairs(name_list):\n",
    "    try:\n",
    "        if len(name_list) > 1:\n",
    "            return list(itertools.combinations(name_list, 2))\n",
    "        \n",
    "    except Exception as e:\n",
    "        print(\"type error: \" + str(e))\n",
    "        print(traceback.format_exc())"
   ]
  },
  {
   "cell_type": "code",
   "execution_count": 129,
   "metadata": {
    "ExecuteTime": {
     "end_time": "2018-09-13T04:45:14.086633Z",
     "start_time": "2018-09-13T04:45:13.246844Z"
    }
   },
   "outputs": [],
   "source": [
    "Total=sum(total_name_list_new,[])"
   ]
  },
  {
   "cell_type": "code",
   "execution_count": 139,
   "metadata": {
    "ExecuteTime": {
     "end_time": "2018-09-13T04:48:12.653995Z",
     "start_time": "2018-09-13T04:48:12.649825Z"
    }
   },
   "outputs": [
    {
     "data": {
      "text/plain": [
       "[('Katherine DeConti', 'Elijah Duckworth-Schachter')]"
      ]
     },
     "execution_count": 139,
     "metadata": {},
     "output_type": "execute_result"
    }
   ],
   "source": [
    "gen_pairs(Total[10])"
   ]
  },
  {
   "cell_type": "code",
   "execution_count": 48,
   "metadata": {
    "ExecuteTime": {
     "end_time": "2018-09-13T06:39:10.364896Z",
     "start_time": "2018-09-13T06:39:10.360448Z"
    }
   },
   "outputs": [],
   "source": [
    "a_pairs=list(map(gen_pairs,a))"
   ]
  },
  {
   "cell_type": "code",
   "execution_count": 143,
   "metadata": {
    "ExecuteTime": {
     "end_time": "2018-09-13T04:52:10.413710Z",
     "start_time": "2018-09-13T04:49:48.463485Z"
    }
   },
   "outputs": [
    {
     "data": {
      "text/plain": [
       "209968"
      ]
     },
     "execution_count": 143,
     "metadata": {},
     "output_type": "execute_result"
    }
   ],
   "source": [
    "All_pairs=list(map(gen_pairs,sum(total_name_list_new,[])))\n"
   ]
  },
  {
   "cell_type": "code",
   "execution_count": 144,
   "metadata": {
    "ExecuteTime": {
     "end_time": "2018-09-13T04:52:48.134826Z",
     "start_time": "2018-09-13T04:52:47.984964Z"
    }
   },
   "outputs": [],
   "source": [
    "#dump_file('All_pairs',All_pairs)"
   ]
  },
  {
   "cell_type": "code",
   "execution_count": 89,
   "metadata": {
    "ExecuteTime": {
     "end_time": "2018-09-13T07:07:05.666703Z",
     "start_time": "2018-09-13T07:07:05.661472Z"
    }
   },
   "outputs": [],
   "source": [
    "class Graph:\n",
    "    def __init__(self):\n",
    "        self.graph=nx.Graph()\n",
    "        self.pair=[]\n",
    "    \n",
    "    def _gen_edges(self,alist):\n",
    "        pairs=list(itertools.combinations(alist, 2))\n",
    "        self.pair.append(pairs)\n",
    "        \n",
    "        return pairs\n",
    "    \n",
    "    def build_graph(self,alist):\n",
    "        edges=self._gen_edges(alist)\n",
    "        self.graph.add_edges_from(edges)\n",
    "        \n",
    "    def multi_build(self,lists):\n",
    "        try:\n",
    "            for alist in lists:\n",
    "                for single_list in alist:\n",
    "                    self.build_graph(single_list)\n",
    "        except Exception as e:\n",
    "            print(\"type error: \" + str(e))\n",
    "            print(traceback.format_exc())\n",
    "        "
   ]
  },
  {
   "cell_type": "code",
   "execution_count": 90,
   "metadata": {
    "ExecuteTime": {
     "end_time": "2018-09-13T07:07:07.426559Z",
     "start_time": "2018-09-13T07:07:07.423325Z"
    }
   },
   "outputs": [],
   "source": [
    "A=Graph()"
   ]
  },
  {
   "cell_type": "code",
   "execution_count": 91,
   "metadata": {
    "ExecuteTime": {
     "end_time": "2018-09-13T07:07:11.707407Z",
     "start_time": "2018-09-13T07:07:11.689148Z"
    }
   },
   "outputs": [
    {
     "name": "stdout",
     "output_type": "stream",
     "text": [
      "type error: 'NoneType' object is not iterable\n",
      "Traceback (most recent call last):\n",
      "  File \"<ipython-input-89-ce2455103bd6>\", line 20, in multi_build\n",
      "    self.build_graph(single_list)\n",
      "  File \"<ipython-input-89-ce2455103bd6>\", line 13, in build_graph\n",
      "    edges=self._gen_edges(alist)\n",
      "  File \"<ipython-input-89-ce2455103bd6>\", line 7, in _gen_edges\n",
      "    pairs=list(itertools.combinations(alist, 2))\n",
      "TypeError: 'NoneType' object is not iterable\n",
      "\n"
     ]
    }
   ],
   "source": [
    "A.multi_build(Total_findword)"
   ]
  },
  {
   "cell_type": "code",
   "execution_count": 37,
   "metadata": {
    "ExecuteTime": {
     "end_time": "2018-09-13T06:33:08.688211Z",
     "start_time": "2018-09-13T06:33:08.683330Z"
    }
   },
   "outputs": [
    {
     "data": {
      "text/plain": [
       "DegreeView({'Glenn Adamson': 8, 'Simon Doonan': 7, 'Craig Leavitt': 8, 'Jerome Chazen': 7, 'Andi Potamkin': 8, 'Ralph Pucci': 8, 'Kirsten Bailey': 7, 'Edwin Hathaway': 7, 'Kamie Lightburn': 3, 'Christopher Spitzmiller': 8, 'Diana Quasha': 1, 'Mariam Azarm': 2, 'Sana Sabbagh': 2, 'Lynette Dallas': 2, 'Sydney Shuman': 5, 'Matthew Bees': 2, 'Tom Edelman': 1, 'Warren Scharf': 1, 'Amory McAndrew': 1, 'Sean McAndrew': 1, 'Mario Buatta': 3, 'Helene Tilney': 2, 'Katherine DeConti': 1, 'Elijah Duckworth-Schachter': 1, 'John Rosselli': 1, 'Elizabeth Swartz': 1, 'Stephen Simcock': 2, 'Lee Strock': 2, 'Thomas Hammer': 2, 'Searcy Dryden': 3, 'Lesley Dryden': 3, 'Richard Lightburn': 3, 'Michel Witmer': 3, 'Jennifer Cacioppo': 1, 'Kevin Barba': 1, 'Virginia Wilbanks': 1, 'Lacary Sharpe': 3, 'Valentin Hernandez': 3, 'Yaz Hernandez': 3, 'Chele Farley': 6, 'James Farley': 3, 'Harry Heissmann': 2, 'Angela Clofine': 2, 'Michael Clofine': 2, 'Jared Goss': 1, 'Kristina Ward': 1, 'Alex Papachristidis': 1, 'Nick Olsen': 3, 'Lindsey Harper': 3, 'Alberto Villalobos': 3, 'David Duncan': 3, 'Caroline Dean': 2, 'Ellen Niven': 2, 'Debbie Bancroft': 1, 'David Svanda': 1, 'Julia Weld': 1, 'Kevin Lichten': 3, 'Robert Ruffino': 3, 'Joan Craig': 3, 'Michael McGraw': 3, 'Roric Tobin': 3, 'Richard Farley': 3, 'Geoffrey Bradfield': 3, 'Emily Leonard': 2, 'Doug Steinbrech': 1, 'Mary Pelt': 1, 'Dennis Freedman': 4, 'Donald Tober': 3, 'Barbara Tober': 3, 'Linda Fargo': 3, 'Bjorn Wallander': 3, 'Celia Morrissette': 1, 'Keith Johnson': 1, 'Sandra Gering': 1, 'Julia Kuni': 1, 'Alexandra Richards': 1, 'Paul Longo': 1, 'Bryna Pomp': 1, 'Martin Pomp': 1, 'Freddie Leiba': 1, 'Cynthia Adler': 1, 'Rick Presutti': 1, 'Leticia Presutti': 1, 'Steve Evans': 5, 'Kate White': 5, 'Liz Nacey': 5, 'Anne Strickland': 5, 'Patrick Jones': 5, 'Jennifer Fujitani': 5, 'Tood Eberle': 1, 'Gina Nanni': 1, 'Tony Ingrao': 1, 'Randy Kemper': 1, 'Gordan Kenney': 1, 'Jill Huggins': 1, 'Wendy MacGaw': 1, 'Howard Tre': 1, 'Lance LePere': 3, 'Michael Kors': 3, 'Nile Rodgers': 2, 'Bette Midler': 6, 'Todd DeGarmo': 1, 'Deborah Marton': 1, 'David Rockwell': 1, 'Lola Rockwell': 1, 'Davon Windsor': 1, 'Rachel Hilbert': 1, 'Judy Gold': 1, 'Kevin Fox': 1, 'Michelle Fox': 1, 'Jane Krakowski': 3, 'Shoshanna Gruss': 1, 'Drew Schiff': 1, 'Margo Nederlander': 1, 'Jimmy Nederlander': 1, 'Shelly Malkin': 1, 'Nathalie Kaplan': 1, 'Kelly Bensimon': 1, 'John Demsey': 1, 'Nancy Hunt': 2, 'Richard Soloway': 1, 'Donna Soloway': 1, 'Michelle Halpern': 2, 'Mark Robinson': 2, 'Lisa Halpern': 2, 'Wendy Carduner': 1, 'George Perry': 4, 'Lisa Wilkenson': 1, 'Tom Wilkenson': 1, 'Sarah Page': 1, 'Chips Page': 1, 'Jim Killerlane': 1, 'Allison Minton': 1, 'Ken Fishel': 3, 'Maria Fishel': 3, 'Tina Wong': 3, 'Alexis Mersentes': 1, 'Doris Liebman': 1})"
      ]
     },
     "execution_count": 37,
     "metadata": {},
     "output_type": "execute_result"
    }
   ],
   "source": [
    "Social_new.degree"
   ]
  },
  {
   "cell_type": "code",
   "execution_count": 33,
   "metadata": {
    "ExecuteTime": {
     "end_time": "2018-09-13T05:50:35.123149Z",
     "start_time": "2018-09-13T05:50:35.119960Z"
    }
   },
   "outputs": [],
   "source": [
    "def Build_graph(pair,graph):\n",
    "    graph.add_edges_from(pair)"
   ]
  },
  {
   "cell_type": "code",
   "execution_count": 45,
   "metadata": {
    "ExecuteTime": {
     "end_time": "2018-09-13T06:04:09.309939Z",
     "start_time": "2018-09-13T06:04:09.305928Z"
    }
   },
   "outputs": [],
   "source": [
    "def build_graph(node,graph):\n",
    "    try:\n",
    "        graph.add_node(node[0])\n",
    "        graph.add_node(node[1])\n",
    "        graph.add_edge(node[0], node[1], weight = 1)\n",
    "        \n",
    "    except Exception as e:\n",
    "        print(\"type error: \" + str(e))\n",
    "        print(traceback.format_exc())"
   ]
  },
  {
   "cell_type": "code",
   "execution_count": 6,
   "metadata": {
    "ExecuteTime": {
     "end_time": "2018-09-13T06:24:53.332457Z",
     "start_time": "2018-09-13T06:24:53.090597Z"
    }
   },
   "outputs": [
    {
     "name": "stdout",
     "output_type": "stream",
     "text": [
      "130037\n"
     ]
    }
   ],
   "source": [
    "All_pairs=load_file('All_pairs')\n",
    "print(len(All_pairs))"
   ]
  },
  {
   "cell_type": "code",
   "execution_count": 25,
   "metadata": {
    "ExecuteTime": {
     "end_time": "2018-09-13T06:27:34.326138Z",
     "start_time": "2018-09-13T06:27:34.292106Z"
    }
   },
   "outputs": [],
   "source": []
  },
  {
   "cell_type": "code",
   "execution_count": 26,
   "metadata": {
    "ExecuteTime": {
     "end_time": "2018-09-13T06:27:35.871678Z",
     "start_time": "2018-09-13T06:27:35.867662Z"
    }
   },
   "outputs": [
    {
     "data": {
      "text/plain": [
       "209968"
      ]
     },
     "execution_count": 26,
     "metadata": {},
     "output_type": "execute_result"
    }
   ],
   "source": []
  },
  {
   "cell_type": "code",
   "execution_count": null,
   "metadata": {
    "ExecuteTime": {
     "start_time": "2018-09-13T06:18:28.737Z"
    }
   },
   "outputs": [],
   "source": [
    "len(sum(All_pairs,[]))"
   ]
  },
  {
   "cell_type": "code",
   "execution_count": 46,
   "metadata": {
    "ExecuteTime": {
     "end_time": "2018-09-13T06:07:12.247779Z",
     "start_time": "2018-09-13T06:04:24.131828Z"
    }
   },
   "outputs": [],
   "source": [
    "Social=nx.MultiGraph()\n",
    "build_graph(sum(All_pairs,[]),Social)"
   ]
  },
  {
   "cell_type": "code",
   "execution_count": 49,
   "metadata": {
    "ExecuteTime": {
     "end_time": "2018-09-13T06:12:49.185568Z",
     "start_time": "2018-09-13T06:12:49.182588Z"
    }
   },
   "outputs": [],
   "source": [
    "Gee=nx.Graph()"
   ]
  },
  {
   "cell_type": "code",
   "execution_count": 50,
   "metadata": {
    "ExecuteTime": {
     "end_time": "2018-09-13T06:12:50.009439Z",
     "start_time": "2018-09-13T06:12:50.004100Z"
    }
   },
   "outputs": [],
   "source": [
    "# calculate best friends - or the edges with highest weights\n",
    "w=0\n",
    "name1=[]\n",
    "name2=[]\n",
    "wt=[]\n",
    "for u,v,data in Social.edges(data=True):\n",
    "    w = data['weight']\n",
    "    if Gee.has_edge(u,v):\n",
    "        Gee[u][v]['weight'] += w\n",
    "    else:\n",
    "        Gee.add_edge(u, v, weight=w)\n",
    "        \n",
    "for line in Gee.edges(data=True):\n",
    "    if (str(line[0])!='') and (str(line[0])!=''):        \n",
    "        name1.append(str(line[0]))\n",
    "        name2.append(str(line[1]))\n",
    "        k=line[2].get('weight')\n",
    "        wt.append(k)"
   ]
  },
  {
   "cell_type": "code",
   "execution_count": 52,
   "metadata": {
    "ExecuteTime": {
     "end_time": "2018-09-13T06:13:30.166979Z",
     "start_time": "2018-09-13T06:13:30.164039Z"
    }
   },
   "outputs": [],
   "source": [
    "nx.write_gpickle(Social,\"Social_graph_Multi\")"
   ]
  },
  {
   "cell_type": "code",
   "execution_count": 16,
   "metadata": {
    "ExecuteTime": {
     "end_time": "2018-09-13T05:34:18.225489Z",
     "start_time": "2018-09-13T05:34:18.222486Z"
    }
   },
   "outputs": [],
   "source": [
    "nx.write_gpickle(Social,\"Social_graph\")"
   ]
  },
  {
   "cell_type": "code",
   "execution_count": 55,
   "metadata": {
    "ExecuteTime": {
     "end_time": "2018-09-13T06:14:51.498092Z",
     "start_time": "2018-09-13T06:14:51.495213Z"
    }
   },
   "outputs": [],
   "source": [
    "edges_mapped=list(zip(list(zip(name1,name2)),wt))"
   ]
  },
  {
   "cell_type": "code",
   "execution_count": 56,
   "metadata": {
    "ExecuteTime": {
     "end_time": "2018-09-13T06:14:53.079847Z",
     "start_time": "2018-09-13T06:14:53.075547Z"
    }
   },
   "outputs": [
    {
     "data": {
      "text/plain": [
       "[((\"('Glenn Adamson', 'Simon Doonan')\", \"('Glenn Adamson', 'Craig Leavitt')\"),\n",
       "  1)]"
      ]
     },
     "execution_count": 56,
     "metadata": {},
     "output_type": "execute_result"
    }
   ],
   "source": [
    "\n",
    "edges_mapped[:10]"
   ]
  },
  {
   "cell_type": "code",
   "execution_count": 92,
   "metadata": {
    "ExecuteTime": {
     "end_time": "2018-09-13T07:07:28.230736Z",
     "start_time": "2018-09-13T07:07:28.223653Z"
    }
   },
   "outputs": [
    {
     "data": {
      "text/plain": [
       "DegreeView({'Jessie Maxwell': 1, 'Jason Eblances': 1, 'Amy Mc': 2, 'Arden Wohl': 3, 'Sylvana Soto': 1, 'Luisiana Mendoza': 1, 'Frederic Fekkai': 4, 'Shirin Von Wulffen': 1, 'Jennifer Creel': 4, 'Mark Gilbertson': 21, 'Ashley Mc': 4, 'Leven Rambin': 2, 'Darcy Jones': 2, 'Tracy Stern': 6, 'Olivia Chantecaille': 4, 'Adelina Wong Ettelson': 5, 'Olivia Palermo': 5, 'Susan Shin': 8, 'Kenya Clarke': 2, 'Monique Jones': 2, 'Mary Brown': 2, 'Gillian Miniter': 13, 'Arthur Bakal': 1, 'Kim Hicks': 3, 'Cherell Flaherty': 1, 'Amy Smilovic': 4, 'Emilia Fanjul Pfeifler': 4, 'Liz Walker': 4, 'Zani Gugelmann': 5, 'Rachel Roy': 18, 'Andrew Saffir': 13, 'Nina Griscom': 2, 'Elizabeth Meigher': 2, 'Bonnie Morrison': 1, 'Byrdie Bell': 3, 'Edward Barsamian': 3, 'Serena Nakkahah': 2, 'Dayssi Olarte De Kanavos': 7, 'Chessy Wilson': 2, 'Lily Maddock': 1, 'Billy Norwich': 1, 'Andre Balazs': 1, 'Stephanie Thompson': 1, 'Aida Khoursheed': 1, 'Gene Seidman': 2, 'Linda Thompson': 2, 'Tom Krizmanic': 2, 'Nathaniel Shuman': 3, 'David Shuman': 3, 'Ruth Lande Shuman': 16, 'Michael Shuman': 13, 'Bloomberg': 6, 'Michelle Oka Doner': 1, 'Lara Rubin': 1, 'Patti Harris': 2, 'Verone Kennedy': 2, 'Chancellor Joel Klein': 5, 'Deven Parekh': 13, 'Richard Segal': 13, 'Carmen Thain': 3, 'Gene Mercy': 12, 'John Thain': 3, 'Doug Wilson': 3, 'Andy Chonoles': 11, 'Jamie Dinan': 11, 'Rosa Pietanza': 11, 'Shari Markbreiter': 11, 'Pat Goldman': 11, 'Ken Seiff': 11, 'Debrah Pearson Feinn': 11, 'Bette Midler': 8, 'Odyssia Skouras Quadrani': 2, 'Chuck Close': 3, 'Barbara Pine': 1, 'Peter Reed': 1, 'Marie Josee Kravis': 1, 'Mercedes Bass': 4, 'John Guare': 5, 'Anita De': 3, 'Rosa Berrizbeitia': 3, 'Louis Berrizbeitia': 3, 'Leslie Rose Close': 2, 'Carroll Dunham': 2, 'Laurie Simmons': 2, 'Mary Miss': 3, 'George Peck': 3, 'Mary Margaret Jones': 3, 'Doug Argue': 3, 'George Hargreaves': 1, 'Kathryn Titus': 1, 'Adele Chatfield': 5, 'Martin Von Haselberg': 1, 'Billie Tsien': 2, 'Tod Williams': 2, 'Wendy Evans Joseph': 2, 'Josee Kravis': 2, 'Richard Olcott': 1, 'Betsy Ennis': 1, 'Robert Bovet': 1, 'Barbara Goldsmith': 1, 'Susan Nitza': 1, 'Mike Sovern': 1, 'Thomas Kelly': 4, 'Diane Britz Lotti': 4, 'Samuel Waterston': 6, 'Millicent Johnson': 1, 'Heather Bryant': 1, 'Nancy Kissinger': 2, 'Marilyn Perry': 1, 'Joan Hardy Clark': 1, 'David Childs': 1, 'Mark Strand': 1, 'Marlene Dietrich': 1, 'City': 1, 'Cornelia Guest': 8, 'Virginia Chipurnoi': 2, 'Elliott Erwitt': 1, 'Arnaud Durieux': 1, 'Alison Minton': 7, 'Lauren Ezersky': 1, 'Jane Hobson': 1, 'Aldon James Jr': 1, 'Harriette Rose Katz': 3, 'Jeffrey Selden': 1, 'Patrick Mc': 18, 'Humane': 3, 'Alexander Asseily': 1, 'Susan Moffat': 1, 'Aymeric Fraise': 2, 'Mariah Chase': 3, 'Nicholas Whyatt': 2, 'Geoffrey Tudisco': 2, 'Alexandra Wilkis': 4, 'Rafael Joory': 2, 'James Veltri': 2, 'Anne Aarfing': 2, 'Gaston Bullrich': 2, 'Jon Fascitelli': 6, 'Margaret Katz': 1, 'Hosain Rahman': 5, 'Kathryn Forest': 2, 'Philip Edwards': 1, 'William Rukin': 2, 'Lesley Gurkin': 3, 'Eric Lentini': 2, 'Claude Shaw': 3, 'Rolando Polli': 1, 'Christian Amundsen': 1, 'Alvaro Silva': 4, 'Sian Goddard': 4, 'Fiona Imbert': 4, 'Luisa Figueroa': 4, 'Giuseppe Auricchio': 4, 'Daniel Meiland': 1, 'Soren Christophersen': 1, 'Alicia Engstrom': 1, 'Louisa Serene': 1, 'Thomas Schneider': 1, 'Carolina Gonzalez': 2, 'Daniele Benatoff': 2, 'Nastassja Balick': 1, 'Anthony Coppers': 1, 'Gaurav Burman': 5, 'Philip Morelle': 4, 'Alison Newman': 5, 'Mark Salem': 2, 'Laura Zukerman': 3, 'Rachel Leonard': 1, 'James Karoli': 1, 'Sanaz Ameri': 1, 'Dimitry Dogaev': 1, 'Sara Law': 1, 'Kathryn Bohannon': 1, 'Priscilla Fraser': 4, 'Zubin Mehta': 4, 'Marco Cipriano': 3, 'Henri Fink': 3, 'David Fink': 6, 'Thomas Hermansen': 1, 'Cortney Dudgeon': 3, 'Ware Sykes': 2, 'Sophie Thomas': 2, 'Tiffani Hughes': 1, 'Aaron Gross': 1, 'Ritesh Bhavnani': 3, 'Bandar Antabi': 3, 'Andy Martin': 1, 'Lisa Meiland': 1, 'Guini Suarez': 2, 'Melanie Charlton': 1, 'Heidi Crossley': 1, 'Kirsten Rabaut': 1, 'Representative Sue Myrick': 2, 'Joel Buchwald': 5, 'Sheila Rabaut': 8, 'Hal Hollister': 1, 'Frank Sesno': 6, 'Wendy Adeler Hall': 4, 'Mike Wallace': 6, 'Sue Myrick': 4, 'Tamara Buchwald': 5, 'Kathy Crary': 1, 'Tom Rabaut': 3, 'Katie Mc': 3, 'Tim Cook': 3, 'Kate Boyce': 3, 'Kristen Rabaout': 1, 'Charlene Devansky': 1, 'Earl Heron': 4, 'Norris Francis': 4, 'Nelson Jean': 4, 'Earl Arrington': 4, 'Bilal Hill': 4, 'Luncheon Chair Betty King Obiajulu': 2, 'Dionne Polite': 2, 'Greater  Chapter Minta Spain': 2, 'Kristie Patton': 1, 'Esther Silver Parker': 1, 'Robin Verges': 7, 'Bruce Nilson': 7, 'Heather Matthews': 7, 'Victoria Mason': 7, 'Audrey Bernard': 7, 'Mary Truesdale': 7, 'Sonya Brown': 7, 'Myrah Brown': 8, 'Hasoni Pratts': 1, 'Audrey Thorne': 1, 'Betty King Obiajulu': 9, 'Minta Spain': 6, 'Grace Ingleton': 2, 'Gerri Warren': 4, 'Hazel Dukes': 6, 'Marita Green Monroe': 4, 'Laura Blackburne': 4, 'Zaire Green': 1, 'Ketley Michel': 1, 'Virginia Fields': 1, 'Natatia Griffith': 2, 'Gladys Barnes': 2, 'Delores Dixon': 2, 'Coreen Simpson': 2, 'Diane Stevens Liotta': 2, 'Linda Burrell': 1, 'Virginia Arrington': 1, 'Patricia Durrant': 7, 'Yvette Clarke': 7, 'Faye Rodney': 7, 'Marcella Maxwell': 7, 'Jessica Odle': 7, 'Consul General': 9, 'Cynthia Brown Franklin': 7, 'Barbara Tober': 7, 'Iris Apfel': 5, 'Ann Grimm': 9, 'Gena Rowlands': 6, 'Georgette Mosbacher': 5, 'Anne Slater': 5, 'Suzanne Wright': 4, 'Bill Cosby': 1, 'Autism Speaks': 1, 'Toni Braxton': 1, 'Kristen Wiig': 1, 'Kenan Thompson': 1, 'Bill Hader': 1, 'Jason Sudeikis': 1, 'Len Berman': 1, 'Maya Rudolph': 1, 'Seth Meyers': 1, 'Jack Rosen': 1, 'Phyllis Rosen': 1, 'Russell Simmons': 4, 'Rena Sindi': 3, 'Nayrouz Tatanaki': 4, 'Denise Rich': 5, 'Brian Feit': 1, 'Angela Salomon': 1, 'Vanisha Mittar Bhatiou': 1, 'Anjani Vasson': 1, 'Nancy Kagan': 1, 'Patricia Assouline': 1, 'Jamie Gingerelli': 1, 'Danielle Yanatta': 1, 'Paul Kaplan': 3, 'Miriam David': 3, 'Yalmez Tatanki': 3, 'Roxanne Tatanaki': 3, 'Kojo Annan': 1, 'Jack Zack': 3, 'Joe Giorgdina': 3, 'Kieron Kawall': 3, 'Mark Eishner': 3, 'Bobbi Brown': 11, 'Dress For Success Honorees': 1, 'Andrew Rosen': 10, 'Meredith Melling Burke': 2, 'Joi Gordon': 9, 'Issac Mizrahi': 1, 'Lorraine Bracco': 1, 'Margaux Guerard': 1, 'Steve Green': 1, 'Marilyn Crawford': 1, 'Richard Moody': 10, 'Vallnex Mozell': 1, 'Damon Dash': 13, 'Paula Sutter': 9, 'Peter Nordstrom': 9, 'Gerri Warren Merrick': 9, 'Yogi Berra': 9, 'Ken Greenfieeld': 1, 'Lavelle Olexa': 1, 'Marc Hruschka': 2, 'Jyarland Jones': 1, 'Bonnie Abrams': 2, 'Breanna Buhr': 2, 'Julian Jenkins': 2, 'James Kemp': 3, 'Amy Fine Collins': 3, 'Flora Collins': 3, 'Luke Par': 3, 'Keith Naughton': 2, 'Dave Reuter': 2, 'Bentley Motors': 2, 'Philip Warner': 1, 'Christine Gaskell': 1, 'David Goggins': 2, 'Rod Moore': 2, 'Ted Schloz': 4, 'Richard Charlesworth': 1, 'Ambassador Jaidi': 1, 'Ed Panzer': 2, 'Don Heditsian': 2, 'Dietrich Lahrs': 4, 'Amy Sacco': 5, 'Jeremy Blake': 2, 'Kristina Westerby': 2, 'Liz Hopfan': 2, 'Kris Norman': 2, 'Hee Grinnell': 1, 'Pajt Dower': 1, 'Peyton Cochran': 1, 'Anthony Roth Costanzo': 1, 'Matthu Placek': 1, 'Felicia Taylor': 1, 'Katherine Leahy': 1, 'Anthony James': 1, 'Lawrence Benenson': 1, 'Celesa Moran': 1, 'Michael Muller': 1, 'Benjamin Amos': 1, 'Katarzyna Pintek': 1, 'Anisha Lakhani': 6, 'Jason Tepperman': 2, 'Kristian Laliberte': 5, 'Sana Rizvi': 1, 'Taylor Spellman': 1, 'Jaci Reid': 7, 'George Wayne': 1, 'Victorine Deych': 1, 'Ellen Lee': 1, 'Paud Roche': 2, 'Kitty Roche': 2, 'Sue Stemp': 2, 'Nick Samartis': 1, 'April Greaves': 1, 'Pat Malone': 1, 'Jim Shi': 1, 'Eric Archibald': 1, 'Tony Alcindor': 1, 'Tamara Ara': 1, 'Jonathan Farkas': 1, 'Terrence Charles': 1, 'Jennifer Orr': 1, 'Kimberly Guilfoyle': 1, 'Eric Villency': 1, 'Nicole Romano': 1, 'Euan Rellie': 3, 'Tinsley Mortimer': 11, 'Matthew Modine': 1, 'Michael Strahan': 1, 'Simona Fuscio': 1, 'Marcus Schenkenberg': 1, 'Caroline Yaffa': 1, 'Denise Saul': 1, 'Isabel Tonelli': 1, 'Anna Marie Perez': 1, 'Bennett Hardy': 2, 'Wendy Carduner': 4, 'Barrett Pickett': 2, 'Carmen Dell': 2, 'Lilliane Montevecchi': 2, 'Fabio Granato': 1, 'Valentina Brungnoli': 1, 'Grace Ianucci': 1, 'Brother Diadamo': 1, 'Peter Vallone': 1, 'Peter Vallone Jr': 1, 'Lee Mellis': 6, 'Dana Dellavalle': 1, 'Tommy Tune': 2, 'Patti Labelle': 3, 'Catherine Saxton': 1, 'Rosanna Scotto': 2, 'Ben Gazzara': 1, 'Cutty Mc': 7, 'Rob Rich': 4, 'Dinner Tent': 3, 'East Side House Settlement': 3, 'Gala Preview': 3, 'International Auto Show': 3, 'Alexis Zoullas': 1, 'Priscilla Azeredo': 1, 'Blair Clarke': 3, 'Caroline Rowley': 4, 'Blaire Clarke': 2, 'Stephen Jacoby': 2, 'Tatiana Platt': 6, 'Steven Butensky': 1, 'Di Petroff': 2, 'Teresa Olszewski': 1, 'David Tuthill': 1, 'Joan Young': 1, 'Phil Yang': 1, 'John Sanchez': 4, 'Mark Scheinberg': 1, 'Marianna Olszewski': 12, 'Blair Voltz Clarke': 2, 'Tana Dye': 3, 'Jennifer Powers': 2, 'Michael Lombardi': 3, 'Jerry Adler': 3, 'Denis Leary': 10, 'Daniel Sunjata': 10, 'Dani Shapiro': 15, 'Callie Thorne': 12, 'Amy Sedaris': 12, 'Andrea Roth': 8, 'Ann Lagravanese': 8, 'Ann Leary': 12, 'Rosalva Sierra': 8, 'Meg Wolitzer': 5, 'Lisa Birnbach': 5, 'Joanna Coles': 1, 'Peter Godwin': 1, 'Judith Miller': 3, 'Frank Mc': 7, 'Joan Adler': 3, 'Annalise Carol': 1, 'Ivy Tashlik': 1, 'Joe Zucker': 1, 'Bratta Leva': 1, 'Carolyn Alexander': 1, 'Irving Sandler': 1, 'Michel Witmer': 2, 'Alice Judelson': 1, 'Iris Smyles': 1, 'Frederick Tuten': 1, 'Aric Mayer': 1, 'Brian Mc': 1, 'Deborah Garwood': 1, 'Joe Fyfe': 1, 'Frank Schroder': 1, 'Mary Heilmann': 1, 'Meg Malloy': 1, 'Ellie Bronson': 1, 'Olivier Renaud': 1, 'Anthony Allen': 1, 'Michele Gerber Klein': 4, 'Ella Krasner': 4, 'Marie Martinez': 2, 'Betsy Sussler': 1, 'Dorothy Dunne': 1, 'Matthew Carasella': 1, 'Auto Show': 2, 'Maria Boyazny': 1, 'Judy Agisim': 1, 'Monnie Begley': 1, 'Lynn Paulsen': 1, 'Chuck Pfeifer': 2, 'Pat Patterson': 1, 'Lisa Crosby': 2, 'Betsy Perry': 1, 'Nancy Collins': 1, 'Tina Brown': 1, 'Inna Litrovnik': 2, 'Alexander Alperovich': 2, 'Roza "
      ]
     },
     "execution_count": 92,
     "metadata": {},
     "output_type": "execute_result"
    },
    {
     "data": {
      "text/html": [
       "<b>limit_output extension: Maximum message size of 10000 exceeded with 56451 characters</b>"
      ]
     },
     "metadata": {},
     "output_type": "display_data"
    }
   ],
   "source": [
    "A.graph.degree"
   ]
  },
  {
   "cell_type": "code",
   "execution_count": 55,
   "metadata": {
    "ExecuteTime": {
     "end_time": "2018-09-13T06:42:37.503412Z",
     "start_time": "2018-09-13T06:42:36.660766Z"
    }
   },
   "outputs": [
    {
     "data": {
      "image/png": "[encoded data removed]",
      "text/plain": [
       "<Figure size 432x288 with 1 Axes>"
      ]
     },
     "metadata": {},
     "output_type": "display_data"
    }
   ],
   "source": [
    "nx.draw(A.graph, with_labels=True, font_weight='bold')"
   ]
  },
  {
   "cell_type": "code",
   "execution_count": 38,
   "metadata": {
    "ExecuteTime": {
     "end_time": "2018-09-13T05:59:43.355787Z",
     "start_time": "2018-09-13T05:56:58.747007Z"
    }
   },
   "outputs": [],
   "source": [
    "Social_G=nx.Graph()\n",
    "Build_graph(sum(All_pairs,[]),Social_G)"
   ]
  },
  {
   "cell_type": "code",
   "execution_count": 37,
   "metadata": {
    "ExecuteTime": {
     "end_time": "2018-09-13T05:56:38.591528Z",
     "start_time": "2018-09-13T05:56:38.586946Z"
    }
   },
   "outputs": [
    {
     "data": {
      "text/plain": [
       "DegreeView({})"
      ]
     },
     "execution_count": 37,
     "metadata": {},
     "output_type": "execute_result"
    }
   ],
   "source": [
    "nx.read_gpicklel_G=nx.read_gpickle('Social_graph')"
   ]
  },
  {
   "cell_type": "code",
   "execution_count": 44,
   "metadata": {
    "ExecuteTime": {
     "end_time": "2018-09-13T06:03:50.312919Z",
     "start_time": "2018-09-13T06:03:50.306975Z"
    }
   },
   "outputs": [
    {
     "data": {
      "text/plain": [
       "[('Andi Potamkin', 8),\n",
       " ('Christopher Spitzmiller', 8),\n",
       " ('Craig Leavitt', 8),\n",
       " ('Glenn Adamson', 8),\n",
       " ('Ralph Pucci', 8),\n",
       " ('Edwin Hathaway', 7),\n",
       " ('Jerome Chazen', 7),\n",
       " ('Kirsten Bailey', 7),\n",
       " ('Simon Doonan', 7),\n",
       " ('Bette Midler', 6)]"
      ]
     },
     "execution_count": 44,
     "metadata": {},
     "output_type": "execute_result"
    }
   ],
   "source": [
    "popular_list[:10]"
   ]
  },
  {
   "cell_type": "code",
   "execution_count": 40,
   "metadata": {
    "ExecuteTime": {
     "end_time": "2018-09-13T05:59:58.190578Z",
     "start_time": "2018-09-13T05:59:58.186496Z"
    }
   },
   "outputs": [
    {
     "data": {
      "text/plain": [
       "'2.1'"
      ]
     },
     "execution_count": 40,
     "metadata": {},
     "output_type": "execute_result"
    }
   ],
   "source": [
    "nx.__version__"
   ]
  },
  {
   "cell_type": "code",
   "execution_count": null,
   "metadata": {},
   "outputs": [],
   "source": [
    "# Scraping all of the pages could take 10 minutes or so."
   ]
  },
  {
   "cell_type": "markdown",
   "metadata": {},
   "source": [
    "For the remaining analysis, we think of the problem in terms of a\n",
    "[network](http://en.wikipedia.org/wiki/Computer_network) or a\n",
    "[graph](https://en.wikipedia.org/wiki/Graph_%28discrete_mathematics%29).  Any time a pair of people appear in a photo together, that is considered a link.  What we have described is more appropriately called an (undirected)\n",
    "[multigraph](http://en.wikipedia.org/wiki/Multigraph) with no self-loops but this has an obvious analog in terms of an undirected [weighted graph](http://en.wikipedia.org/wiki/Graph_%28mathematics%29#Weighted_graph).  In this problem, we will analyze the social graph of the New York social elite.  We recommend using python's [`networkx`](https://networkx.github.io/) library."
   ]
  },
  {
   "cell_type": "code",
   "execution_count": null,
   "metadata": {
    "ExecuteTime": {
     "end_time": "2018-09-13T00:21:14.420626Z",
     "start_time": "2018-09-13T00:21:14.417376Z"
    }
   },
   "outputs": [],
   "source": [
    "G = nx.Graph()"
   ]
  },
  {
   "cell_type": "code",
   "execution_count": null,
   "metadata": {
    "ExecuteTime": {
     "end_time": "2018-09-13T00:57:29.989913Z",
     "start_time": "2018-09-13T00:57:29.985140Z"
    }
   },
   "outputs": [],
   "source": [
    "import multiprocessing\n",
    "\n",
    "multiprocessing.cpu_count()"
   ]
  },
  {
   "cell_type": "code",
   "execution_count": null,
   "metadata": {
    "ExecuteTime": {
     "end_time": "2018-09-13T00:22:17.833500Z",
     "start_time": "2018-09-13T00:22:17.827963Z"
    }
   },
   "outputs": [],
   "source": [
    "len(total_list)"
   ]
  },
  {
   "cell_type": "code",
   "execution_count": null,
   "metadata": {
    "ExecuteTime": {
     "end_time": "2018-09-12T23:31:40.202842Z",
     "start_time": "2018-09-12T23:31:40.198238Z"
    }
   },
   "outputs": [],
   "source": [
    "class Graph:\n",
    "    def __init__(self):\n",
    "        self.graph=nx.Graph()\n",
    "        self.pair=[]\n",
    "    \n",
    "    def _gen_edges(self,alist):\n",
    "        pairs=list(itertools.combinations(alist, 2))\n",
    "        self.pair.append(pairs)\n",
    "        \n",
    "        return pairs\n",
    "    \n",
    "    def build_graph(self,alist):\n",
    "        edges=self._gen_edges(alist)\n",
    "        self.graph.add_edges_from(edges)\n",
    "        \n",
    "    def multi_build(self,lists):\n",
    "        for alist in lists:\n",
    "            for single_list in alist:\n",
    "                self.build_graph(single_list)\n",
    "        \n",
    "        "
   ]
  },
  {
   "cell_type": "code",
   "execution_count": null,
   "metadata": {
    "ExecuteTime": {
     "end_time": "2018-09-12T23:31:40.724257Z",
     "start_time": "2018-09-12T23:31:40.721689Z"
    }
   },
   "outputs": [],
   "source": [
    "G=Graph()   "
   ]
  },
  {
   "cell_type": "code",
   "execution_count": null,
   "metadata": {
    "ExecuteTime": {
     "end_time": "2018-09-12T23:31:41.507393Z",
     "start_time": "2018-09-12T23:31:41.503570Z"
    }
   },
   "outputs": [],
   "source": [
    "G.multi_build([[['a','b','c','d'],['a','h','c','k'],['a','g','c','f']],[['j','b','c','q'],['a','z','x','y'],['a','l','h','f']]])"
   ]
  },
  {
   "cell_type": "code",
   "execution_count": null,
   "metadata": {
    "ExecuteTime": {
     "end_time": "2018-09-12T23:31:42.986456Z",
     "start_time": "2018-09-12T23:31:42.795564Z"
    }
   },
   "outputs": [],
   "source": [
    "nx.draw(G.graph, with_labels=True, font_weight='bold')"
   ]
  },
  {
   "cell_type": "code",
   "execution_count": null,
   "metadata": {
    "ExecuteTime": {
     "end_time": "2018-09-12T23:25:00.156833Z",
     "start_time": "2018-09-12T23:25:00.153951Z"
    }
   },
   "outputs": [],
   "source": [
    "import itertools  # itertools.combinations may be useful\n",
    "import networkx as nx"
   ]
  },
  {
   "cell_type": "code",
   "execution_count": null,
   "metadata": {
    "ExecuteTime": {
     "end_time": "2018-09-12T23:37:43.738940Z",
     "start_time": "2018-09-12T23:37:43.735623Z"
    }
   },
   "outputs": [],
   "source": [
    "S_graph=Graph()\n"
   ]
  },
  {
   "cell_type": "code",
   "execution_count": null,
   "metadata": {
    "ExecuteTime": {
     "end_time": "2018-09-12T23:37:49.820577Z",
     "start_time": "2018-09-12T23:37:49.808387Z"
    }
   },
   "outputs": [],
   "source": [
    "S_graph.multi_build(list_100)"
   ]
  },
  {
   "cell_type": "code",
   "execution_count": null,
   "metadata": {
    "ExecuteTime": {
     "end_time": "2018-09-12T23:39:32.742078Z",
     "start_time": "2018-09-12T23:39:32.707615Z"
    }
   },
   "outputs": [],
   "source": [
    "S_graph.multi_build(list_200)"
   ]
  },
  {
   "cell_type": "code",
   "execution_count": null,
   "metadata": {
    "ExecuteTime": {
     "end_time": "2018-09-12T23:39:55.718265Z",
     "start_time": "2018-09-12T23:39:55.388063Z"
    }
   },
   "outputs": [],
   "source": [
    "S_graph.multi_build(list_600)"
   ]
  },
  {
   "cell_type": "code",
   "execution_count": null,
   "metadata": {
    "ExecuteTime": {
     "end_time": "2018-09-12T23:40:23.860218Z",
     "start_time": "2018-09-12T23:40:23.700471Z"
    }
   },
   "outputs": [],
   "source": [
    "S_graph.multi_build(list_900)"
   ]
  },
  {
   "cell_type": "code",
   "execution_count": null,
   "metadata": {
    "ExecuteTime": {
     "end_time": "2018-09-12T23:40:35.071537Z",
     "start_time": "2018-09-12T23:40:34.904432Z"
    }
   },
   "outputs": [],
   "source": [
    "S_graph.multi_build(list_rest)"
   ]
  },
  {
   "cell_type": "code",
   "execution_count": null,
   "metadata": {
    "ExecuteTime": {
     "end_time": "2018-09-12T23:39:33.516600Z",
     "start_time": "2018-09-12T23:39:33.513615Z"
    }
   },
   "outputs": [],
   "source": [
    "# plt.figure()\n",
    "# nx.draw(S_graph.graph, with_labels=True)#, font_weight='bold')"
   ]
  },
  {
   "cell_type": "code",
   "execution_count": 93,
   "metadata": {
    "ExecuteTime": {
     "end_time": "2018-09-13T07:08:37.965506Z",
     "start_time": "2018-09-13T07:08:37.960479Z"
    }
   },
   "outputs": [],
   "source": [
    "Degree=list(A.graph.degree())"
   ]
  },
  {
   "cell_type": "code",
   "execution_count": 94,
   "metadata": {
    "ExecuteTime": {
     "end_time": "2018-09-13T07:08:42.954912Z",
     "start_time": "2018-09-13T07:08:42.950756Z"
    }
   },
   "outputs": [],
   "source": [
    "popular_list=sorted(Degree,key=lambda x: x[1],reverse=True)"
   ]
  },
  {
   "cell_type": "code",
   "execution_count": 95,
   "metadata": {
    "ExecuteTime": {
     "end_time": "2018-09-13T07:08:50.831228Z",
     "start_time": "2018-09-13T07:08:50.826359Z"
    }
   },
   "outputs": [
    {
     "data": {
      "text/plain": [
       "[('Mark Gilbertson', 21),\n",
       " ('Rachel Roy', 18),\n",
       " ('Patrick Mc', 18),\n",
       " ('Ruth Lande Shuman', 16),\n",
       " ('Dani Shapiro', 15),\n",
       " ('Susan Solomon', 15),\n",
       " ('Angel Sanchez', 14),\n",
       " ('David Dinkins', 14),\n",
       " ('Gillian Miniter', 13),\n",
       " ('Andrew Saffir', 13)]"
      ]
     },
     "execution_count": 95,
     "metadata": {},
     "output_type": "execute_result"
    }
   ],
   "source": [
    "popular_list[:10]"
   ]
  },
  {
   "cell_type": "markdown",
   "metadata": {},
   "source": [
    "All in all, you should end up with over 100,000 captions and more than 110,000 names, connected in about 200,000 pairs."
   ]
  },
  {
   "cell_type": "markdown",
   "metadata": {},
   "source": [
    "## Question 3: degree\n"
   ]
  },
  {
   "cell_type": "markdown",
   "metadata": {},
   "source": [
    "The simplest question to ask is \"who is the most popular\"?  The easiest way to answer this question is to look at how many connections everyone has.  Return the top 100 people and their degree.  Remember that if an edge of the graph has weight 2, it counts for 2 in the degree.\n",
    "\n",
    "**Checkpoint:** Some aggregate stats on the solution\n",
    "\n",
    "    \"count\": 100.0\n",
    "    \"mean\": 189.92\n",
    "    \"std\": 87.8053034454\n",
    "    \"min\": 124.0\n",
    "    \"25%\": 138.0\n",
    "    \"50%\": 157.0\n",
    "    \"75%\": 195.0\n",
    "    \"max\": 666.0"
   ]
  },
  {
   "cell_type": "code",
   "execution_count": 1,
   "metadata": {
    "ExecuteTime": {
     "end_time": "2018-09-13T15:44:34.892522Z",
     "start_time": "2018-09-13T15:44:34.810307Z"
    }
   },
   "outputs": [
    {
     "ename": "NameError",
     "evalue": "name 'load_file' is not defined",
     "output_type": "error",
     "traceback": [
      "\u001b[0;31m---------------------------------------------------------------------------\u001b[0m",
      "\u001b[0;31mNameError\u001b[0m                                 Traceback (most recent call last)",
      "\u001b[0;32m<ipython-input-1-54a080132810>\u001b[0m in \u001b[0;36m<module>\u001b[0;34m()\u001b[0m\n\u001b[0;32m----> 1\u001b[0;31m \u001b[0mpopular_list\u001b[0m\u001b[0;34m=\u001b[0m\u001b[0mload_file\u001b[0m\u001b[0;34m(\u001b[0m\u001b[0;34m'Sorted_degree'\u001b[0m\u001b[0;34m)\u001b[0m\u001b[0;34m\u001b[0m\u001b[0m\n\u001b[0m",
      "\u001b[0;31mNameError\u001b[0m: name 'load_file' is not defined"
     ]
    }
   ],
   "source": [
    "popular_list=load_file('Sorted_degree')"
   ]
  },
  {
   "cell_type": "code",
   "execution_count": 21,
   "metadata": {
    "ExecuteTime": {
     "end_time": "2018-09-13T05:37:52.785377Z",
     "start_time": "2018-09-13T05:37:51.918656Z"
    }
   },
   "outputs": [
    {
     "name": "stdout",
     "output_type": "stream",
     "text": [
      "==================\n",
      "Your score:  0.0\n",
      "==================\n"
     ]
    }
   ],
   "source": [
    "import heapq  # Heaps are efficient structures for tracking the largest\n",
    "              # elements in a collection.  Use introspection to find the\n",
    "              # function you need.\n",
    "def degree():\n",
    "    return popular_list[:100]\n",
    "\n",
    "grader.score(question_name='graph__degree', func=degree)"
   ]
  },
  {
   "cell_type": "markdown",
   "metadata": {},
   "source": [
    "## Question 4: PageRank\n"
   ]
  },
  {
   "cell_type": "markdown",
   "metadata": {},
   "source": [
    "A similar way to determine popularity is to look at their\n",
    "[PageRank](http://en.wikipedia.org/wiki/PageRank).  PageRank is used for web ranking and was originally\n",
    "[patented](http://patft.uspto.gov/netacgi/nph-Parser?patentnumber=6285999) by Google and is essentially the stationary distribution of a [Markov\n",
    "chain](http://en.wikipedia.org/wiki/Markov_chain) implied by the social graph. You can implement this yourself or use the version in `networkx`\n",
    "\n",
    "Use 0.85 as the damping parameter so that there is a 15% chance of jumping to another vertex at random.\n",
    "\n",
    "**Checkpoint:** Some aggregate stats on the solution\n",
    "\n",
    "    \"count\": 100.0\n",
    "    \"mean\": 0.0001841088\n",
    "    \"std\": 0.0000758068\n",
    "    \"min\": 0.0001238355\n",
    "    \"25%\": 0.0001415028\n",
    "    \"50%\": 0.0001616183\n",
    "    \"75%\": 0.0001972663\n",
    "    \"max\": 0.0006085816"
   ]
  },
  {
   "cell_type": "code",
   "execution_count": null,
   "metadata": {},
   "outputs": [],
   "source": [
    "def pagerank():\n",
    "    return [('Martha Stewart', 0.00019312108706213307)] * 100\n",
    "\n",
    "grader.score(question_name='graph__pagerank', func=pagerank)"
   ]
  },
  {
   "cell_type": "markdown",
   "metadata": {},
   "source": [
    "## Question 5: best_friends\n"
   ]
  },
  {
   "cell_type": "markdown",
   "metadata": {},
   "source": [
    "Another interesting question is who tend to co-occur with each other.  Give us the 100 edges with the highest weights.\n",
    "\n",
    "Google these people and see what their connection is.  Can we use this to detect instances of infidelity?\n",
    "\n",
    "**Checkpoint:** Some aggregate stats on the solution\n",
    "\n",
    "    \"count\": 100.0\n",
    "    \"mean\": 25.84\n",
    "    \"std\": 16.0395470855\n",
    "    \"min\": 14.0\n",
    "    \"25%\": 16.0\n",
    "    \"50%\": 19.0\n",
    "    \"75%\": 29.25\n",
    "    \"max\": 109.0"
   ]
  },
  {
   "cell_type": "code",
   "execution_count": null,
   "metadata": {},
   "outputs": [],
   "source": [
    "def best_friends():\n",
    "    return [(('Michael Kennedy', 'Eleanora Kennedy'), 41)] * 100\n",
    "\n",
    "grader.score(question_name='graph__best_friends', func=best_friends)"
   ]
  },
  {
   "cell_type": "markdown",
   "metadata": {},
   "source": [
    "*Copyright &copy; 2016 The Data Incubator.  All rights reserved.*"
   ]
  }
 ],
 "metadata": {
  "kernelspec": {
   "display_name": "Python 3",
   "language": "python",
   "name": "python3"
  },
  "language_info": {
   "codemirror_mode": {
    "name": "ipython",
    "version": 3
   },
   "file_extension": ".py",
   "mimetype": "text/x-python",
   "name": "python",
   "nbconvert_exporter": "python",
   "pygments_lexer": "ipython3",
   "version": "3.6.7"
  },
  "nbclean": true,
  "toc": {
   "base_numbering": 1,
   "nav_menu": {
    "height": "175px",
    "width": "254px"
   },
   "number_sections": true,
   "sideBar": true,
   "skip_h1_title": false,
   "title_cell": "Table of Contents",
   "title_sidebar": "Contents",
   "toc_cell": false,
   "toc_position": {},
   "toc_section_display": "block",
   "toc_window_display": false
  }
 },
 "nbformat": 4,
 "nbformat_minor": 1
}
