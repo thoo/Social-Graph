{
 "cells": [
  {
   "cell_type": "code",
   "execution_count": 13,
   "metadata": {
    "ExecuteTime": {
     "end_time": "2018-09-13T16:15:00.868577Z",
     "start_time": "2018-09-13T16:15:00.732739Z"
    }
   },
   "outputs": [],
   "source": [
    "%matplotlib inline\n",
    "import matplotlib\n",
    "import matplotlib.pyplot as plt\n",
    "import seaborn as sns\n",
    "sns.set()\n",
    "matplotlib.rcParams['figure.dpi'] = 144\n",
    "import pandas as pd\n",
    "import numpy as np\n",
    "import re\n",
    "import traceback\n",
    "from multiprocessing import Pool\n",
    "pool = Pool(processes=24)\n",
    "from operator import itemgetter"
   ]
  },
  {
   "cell_type": "code",
   "execution_count": 3,
   "metadata": {
    "ExecuteTime": {
     "end_time": "2018-09-13T15:44:42.386545Z",
     "start_time": "2018-09-13T15:44:42.164310Z"
    }
   },
   "outputs": [],
   "source": [
    "from static_grader import grader"
   ]
  },
  {
   "cell_type": "code",
   "execution_count": 4,
   "metadata": {
    "ExecuteTime": {
     "end_time": "2018-09-13T15:44:42.393031Z",
     "start_time": "2018-09-13T15:44:42.389283Z"
    }
   },
   "outputs": [],
   "source": [
    "import pickle as pk\n",
    "def dump_file(filename,data):\n",
    "    with open(filename,'wb') as file:\n",
    "        pk.dump(data,file)\n",
    "def load_file(filename):\n",
    "    with open(filename,'rb') as file:\n",
    "        return pk.load(file)\n",
    "    "
   ]
  },
  {
   "cell_type": "markdown",
   "metadata": {},
   "source": [
    "# The New York Social Graph\n"
   ]
  },
  {
   "cell_type": "markdown",
   "metadata": {},
   "source": [
    "[New York Social Diary](http://www.newyorksocialdiary.com/) provides a\n",
    "fascinating lens onto New York's socially well-to-do.  The data forms a natural social graph for New York's social elite.  Take a look at this page of a recent [run-of-the-mill holiday party](http://www.newyorksocialdiary.com/party-pictures/2014/holiday-dinners-and-doers).\n",
    "\n",
    "Besides the brand-name celebrities, you will notice the photos have carefully annotated captions labeling those that appear in the photos.  We can think of this as implicitly implying a social graph: there is a connection between two individuals if they appear in a picture together.\n",
    "\n",
    "For this project, we will assemble the social graph from photo captions for parties dated December 1, 2014, and before.  Using this graph, we can make guesses at the most popular socialites, the most influential people, and the most tightly coupled pairs.\n",
    "\n",
    "We will attack the project in three phases:\n",
    "1. Get a list of all the photo pages to be analyzed.\n",
    "2. Parse all of the captions on a sample page.\n",
    "3. Parse all of the captions on all pages, and assemble the graph."
   ]
  },
  {
   "cell_type": "markdown",
   "metadata": {},
   "source": [
    "## Phase One\n"
   ]
  },
  {
   "cell_type": "markdown",
   "metadata": {},
   "source": [
    "The first step is to crawl the data.  We want photos from parties on or before December 1st, 2014.  Go to the [Party Pictures Archive](http://www.newyorksocialdiary.com/party-pictures) to see a list of (party) pages.  We want to get the url for each party page, along with its date.\n",
    "\n",
    "Here are some packages that you may find useful.  You are welcome to use others, if you prefer."
   ]
  },
  {
   "cell_type": "code",
   "execution_count": 20,
   "metadata": {
    "ExecuteTime": {
     "end_time": "2018-09-13T18:26:59.009472Z",
     "start_time": "2018-09-13T18:26:58.949935Z"
    }
   },
   "outputs": [],
   "source": [
    "import requests\n",
    "import dill\n",
    "from bs4 import BeautifulSoup\n",
    "from datetime import datetime"
   ]
  },
  {
   "cell_type": "markdown",
   "metadata": {},
   "source": [
    "We recommend using Python [Requests](http://docs.python-requests.org/en/master/) to download the HTML pages, and [BeautifulSoup](https://www.crummy.com/software/BeautifulSoup/) to process the HTML.  Let's start by getting the [first page](http://www.newyorksocialdiary.com/party-pictures)."
   ]
  },
  {
   "cell_type": "code",
   "execution_count": 21,
   "metadata": {
    "ExecuteTime": {
     "end_time": "2018-09-13T18:27:00.356672Z",
     "start_time": "2018-09-13T18:27:00.353649Z"
    }
   },
   "outputs": [],
   "source": [
    "def get_page(page_no):\n",
    "    return requests.get('http://www.newyorksocialdiary.com/party-pictures',params={'page':page_no})\n"
   ]
  },
  {
   "cell_type": "code",
   "execution_count": null,
   "metadata": {
    "ExecuteTime": {
     "end_time": "2018-09-11T17:38:10.554877Z",
     "start_time": "2018-09-11T17:38:10.529539Z"
    }
   },
   "outputs": [],
   "source": [
    "page = get_page(0) # Use requests.get to download the page."
   ]
  },
  {
   "cell_type": "markdown",
   "metadata": {},
   "source": [
    "Now, we process the text of the page with BeautifulSoup."
   ]
  },
  {
   "cell_type": "code",
   "execution_count": 31,
   "metadata": {
    "ExecuteTime": {
     "end_time": "2018-09-13T18:29:45.016658Z",
     "start_time": "2018-09-13T18:29:45.013229Z"
    }
   },
   "outputs": [],
   "source": [
    "import dateutil.parser as dparser"
   ]
  },
  {
   "cell_type": "code",
   "execution_count": 42,
   "metadata": {
    "ExecuteTime": {
     "end_time": "2018-09-13T18:36:12.182946Z",
     "start_time": "2018-09-13T18:36:12.178179Z"
    }
   },
   "outputs": [],
   "source": [
    "def get_links(page_no):\n",
    "    date=[]\n",
    "    link=[]\n",
    "    page = get_page(page_no)\n",
    "    response= BeautifulSoup(page.text, \"lxml\")\n",
    "    links = response.findAll('a', attrs={'href':re.compile(\"^/party-pictures/\")})\n",
    "    fields = response.findAll('span',{'class':'views-field views-field-created'})\n",
    "    lenlinks = len(links)\n",
    "    outmat = [0] * lenlinks\n",
    "    for i in range(lenlinks):\n",
    "       link = links[i].get('href')\n",
    "       date=fields[i].text\n",
    "       #date = str(date.year, date.month, date.day)\n",
    "       outmat[i] = [link, date]\n",
    "    return outmat"
   ]
  },
  {
   "cell_type": "code",
   "execution_count": 43,
   "metadata": {
    "ExecuteTime": {
     "end_time": "2018-09-13T18:36:12.961880Z",
     "start_time": "2018-09-13T18:36:12.888680Z"
    }
   },
   "outputs": [
    {
     "data": {
      "text/plain": [
       "[['/party-pictures/2018/celebrating-lennie-at-tanglewood-and-going-gala-in-the-hamptons',\n",
       "  ' Thursday, August 30, 2018 '],\n",
       " ['/party-pictures/2018/concerts-and-coaching',\n",
       "  ' Wednesday, August 29, 2018 '],\n",
       " ['/party-pictures/2018/walk-of-hope', ' Wednesday, August 15, 2018 '],\n",
       " ['/party-pictures/2018/sensory-stimulation', ' Wednesday, August 8, 2018 '],\n",
       " ['/party-pictures/2018/in-the-spotlight', ' Thursday, August 2, 2018 '],\n",
       " ['/party-pictures/2018/unconditional-love', ' Wednesday, July 25, 2018 '],\n",
       " ['/party-pictures/2018/beauty-optimism-and-the-waves-of-history',\n",
       "  ' Tuesday, July 24, 2018 '],\n",
       " ['/party-pictures/2018/summer-celebrations', ' Monday, July 16, 2018 '],\n",
       " ['/party-pictures/2018/merit-of-every-stripe', ' Friday, June 29, 2018 '],\n",
       " ['/party-pictures/2018/nashvilles-swan-ball', ' Wednesday, June 27, 2018 '],\n",
       " ['/party-pictures/2018/deep-commitment', ' Monday, June 25, 2018 '],\n",
       " ['/party-pictures/2018/full-of-love', ' Wednesday, June 20, 2018 '],\n",
       " ['/party-pictures/2018/symposiums-luncheons-and-tribute-dinners',\n",
       "  ' Tuesday, June 19, 2018 '],\n",
       " ['/party-pictures/2018/summer-soirees', ' Monday, June 18, 2018 '],\n",
       " ['/party-pictures/2018/art-de-vivre', ' Thursday, June 14, 2018 '],\n",
       " ['/party-pictures/2018/all-the-worlds-a-stage', ' Wednesday, June 13, 2018 '],\n",
       " ['/party-pictures/2018/a-taste-of-genius', ' Monday, June 11, 2018 '],\n",
       " ['/party-pictures/2018/the-junior-set-goes-big', ' Thursday, June 7, 2018 '],\n",
       " ['/party-pictures/2018/the-frick-collections-annual-spring-garden-party',\n",
       "  ' Tuesday, June 5, 2018 '],\n",
       " ['/party-pictures/2018/art-music-and-science', ' Monday, June 4, 2018 '],\n",
       " ['/party-pictures/2018/bideawee-ball-celebrates-115-years',\n",
       "  ' Friday, June 1, 2018 '],\n",
       " ['/party-pictures/2018/parisians-in-new-york', ' Thursday, May 31, 2018 '],\n",
       " ['/party-pictures/2018/feeling-like-you-belong', ' Wednesday, May 30, 2018 '],\n",
       " ['/party-pictures/2018/scenes-from-new-york', ' Tuesday, May 29, 2018 '],\n",
       " ['/party-pictures/2018/gathering-in-a-flourishing-way',\n",
       "  ' Thursday, May 24, 2018 '],\n",
       " ['/party-pictures/2018/looking-forward-to-catching-up',\n",
       "  ' Tuesday, May 22, 2018 '],\n",
       " ['/party-pictures/2018/city-of-hope', ' Monday, May 21, 2018 '],\n",
       " ['/party-pictures/2018/shaking-rattling-and-rolling',\n",
       "  ' Friday, May 18, 2018 '],\n",
       " ['/party-pictures/2018/from-new-york-to-nashville',\n",
       "  ' Wednesday, May 16, 2018 '],\n",
       " ['/party-pictures/2018/feeling-fountain-house-and-hearing-the-orpheus-chamber-orchestra',\n",
       "  ' Tuesday, May 15, 2018 '],\n",
       " ['/party-pictures/2018/the-versailles-foundations-annual-dinner-honoring-her-imperial-highness-the',\n",
       "  ' Monday, May 14, 2018 '],\n",
       " ['/party-pictures/2018/arts-education-architecture-airmen-and-lying-in',\n",
       "  ' Monday, May 14, 2018 '],\n",
       " ['/party-pictures/2018/mount-sinai-health-systems-33rd-annual-crystal-party',\n",
       "  ' Thursday, May 10, 2018 '],\n",
       " ['/party-pictures/2018/bursting-with-spring', ' Wednesday, May 9, 2018 '],\n",
       " ['/party-pictures/2018/celebrating-the-fund-for-park-avenue',\n",
       "  ' Tuesday, May 8, 2018 '],\n",
       " ['/party-pictures/2018/spring-is-in-the-air', ' Monday, May 7, 2018 '],\n",
       " ['/party-pictures/2018/trolling-for-hats', ' Thursday, May 3, 2018 '],\n",
       " ['/party-pictures/2018/perseverance-and-preservation',\n",
       "  ' Wednesday, May 2, 2018 '],\n",
       " ['/party-pictures/2018/empowers-africa-the-front-lines-2018',\n",
       "  ' Tuesday, May 1, 2018 '],\n",
       " ['/party-pictures/2018/in-kind', ' Monday, April 30, 2018 '],\n",
       " ['/party-pictures/2018/jay-heritage-center-celebrates-earth-day',\n",
       "  ' Thursday, April 26, 2018 '],\n",
       " ['/party-pictures/2018/arts-in-education', ' Wednesday, April 25, 2018 '],\n",
       " ['/party-pictures/2018/three-steps-forward-two-steps-back',\n",
       "  ' Tuesday, April 24, 2018 '],\n",
       " ['/party-pictures/2018/around-the-neighborhood', ' Friday, April 20, 2018 '],\n",
       " ['/party-pictures/2018/fame-fashion-art-and-the-french',\n",
       "  ' Wednesday, April 18, 2018 '],\n",
       " ['/party-pictures/2018/fighting-the-good-fight', ' Monday, April 16, 2018 '],\n",
       " ['/party-pictures/2018/jmclaughlin-and-save-the-children-host-an-event-to-launch-spring',\n",
       "  ' Monday, April 9, 2018 '],\n",
       " ['/party-pictures/2018/awards-and-accolades', ' Tuesday, April 3, 2018 '],\n",
       " ['/party-pictures/2018/adapting-and-achieving', ' Friday, March 30, 2018 '],\n",
       " ['/party-pictures/2018/aiding-and-empowering', ' Thursday, March 29, 2018 ']]"
      ]
     },
     "execution_count": 43,
     "metadata": {},
     "output_type": "execute_result"
    }
   ],
   "source": [
    "get_links(0)"
   ]
  },
  {
   "cell_type": "code",
   "execution_count": 51,
   "metadata": {
    "ExecuteTime": {
     "end_time": "2018-09-13T18:41:58.550908Z",
     "start_time": "2018-09-13T18:41:58.544700Z"
    }
   },
   "outputs": [
    {
     "data": {
      "text/plain": [
       "datetime.datetime(2018, 4, 3, 0, 0)"
      ]
     },
     "execution_count": 51,
     "metadata": {},
     "output_type": "execute_result"
    }
   ],
   "source": [
    "datetime.strptime(' Tuesday, April 3, 2018 ',' %A, %B %d, %Y ')"
   ]
  },
  {
   "cell_type": "code",
   "execution_count": 49,
   "metadata": {
    "ExecuteTime": {
     "end_time": "2018-09-13T18:41:40.632657Z",
     "start_time": "2018-09-13T18:41:40.625124Z"
    }
   },
   "outputs": [],
   "source": [
    "def get_Date_Link(page_no):\n",
    "    page = get_page(page_no)\n",
    "    soup= BeautifulSoup(page.text, \"lxml\")\n",
    "    temp=soup.findAll('span', attrs={'class':'field-content'})\n",
    "    Link=[]\n",
    "    Date=[]\n",
    "    for i in range(0,len(temp),2):\n",
    "        if temp[i]:\n",
    "            Link.append('http://www.newyorksocialdiary.com'+temp[i].select('a')[0]['href'])\n",
    "            Date.append(temp[i+1].text)\n",
    "        else:\n",
    "            break\n",
    "    data=pd.DataFrame()\n",
    "    data['Date']=pd.to_datetime(pd.Series(Date), format='%A, %B %d, %Y')\n",
    "    data['Link']=Link\n",
    "    \n",
    "    return data"
   ]
  },
  {
   "cell_type": "markdown",
   "metadata": {},
   "source": [
    "This page has links to 50 party pages. Look at the structure of the page and determine how to isolate those links.  Your browser's developer tools (usually `Cmd`-`Option`-`I` on Mac, `Ctrl`-`Shift`-`I` on others) offer helpful tools to explore the structure of the HTML page.\n",
    "\n",
    "Once you have found a pattern, use BeautifulSoup's [select](https://www.crummy.com/software/BeautifulSoup/bs4/doc/#css-selectors) or [find_all](https://www.crummy.com/software/BeautifulSoup/bs4/doc/#find) methods to get those elements."
   ]
  },
  {
   "cell_type": "code",
   "execution_count": null,
   "metadata": {
    "ExecuteTime": {
     "end_time": "2018-09-11T18:36:16.356389Z",
     "start_time": "2018-09-11T18:36:16.293661Z"
    }
   },
   "outputs": [],
   "source": [
    "links = get_Date_Link(0).Link.values"
   ]
  },
  {
   "cell_type": "markdown",
   "metadata": {},
   "source": [
    "There should be 50 per page."
   ]
  },
  {
   "cell_type": "code",
   "execution_count": null,
   "metadata": {
    "ExecuteTime": {
     "end_time": "2018-09-11T18:36:18.253213Z",
     "start_time": "2018-09-11T18:36:18.249814Z"
    }
   },
   "outputs": [],
   "source": [
    "assert len(links) == 50"
   ]
  },
  {
   "cell_type": "markdown",
   "metadata": {},
   "source": [
    "Let's take a look at that first link.  Figure out how to extract the URL of the link, as well as the date.  You probably want to use `datetime.strptime`.  See the [format codes for dates](https://docs.python.org/3/library/datetime.html#strftime-and-strptime-behavior) for reference."
   ]
  },
  {
   "cell_type": "code",
   "execution_count": null,
   "metadata": {
    "ExecuteTime": {
     "end_time": "2018-09-11T18:36:23.542688Z",
     "start_time": "2018-09-11T18:36:23.539699Z"
    }
   },
   "outputs": [],
   "source": [
    "link = links[0]\n",
    "# Check that the title and date match what you see visually."
   ]
  },
  {
   "cell_type": "markdown",
   "metadata": {},
   "source": [
    "For purposes of code reuse, let's put that logic into a function.  It should take the link element and return the URL and date parsed from it."
   ]
  },
  {
   "cell_type": "code",
   "execution_count": null,
   "metadata": {},
   "outputs": [],
   "source": [
    "def get_link_date(el):\n",
    "    temp=\n",
    "    return url, date"
   ]
  },
  {
   "cell_type": "markdown",
   "metadata": {},
   "source": [
    "You may want to check that it works as you expected.\n",
    "\n",
    "Once that's working, let's write another function to parse all of the links on a page.  Thinking ahead, we can make it take a Requests [Response](http://docs.python-requests.org/en/master/api/#requests.Response) object and do the BeautifulSoup parsing within it."
   ]
  },
  {
   "cell_type": "code",
   "execution_count": null,
   "metadata": {},
   "outputs": [],
   "source": [
    "def get_links(response):\n",
    "    return ... # A list of URL, date pairs"
   ]
  },
  {
   "cell_type": "markdown",
   "metadata": {},
   "source": [
    "If we run this on the previous response, we should get 50 pairs."
   ]
  },
  {
   "cell_type": "code",
   "execution_count": null,
   "metadata": {},
   "outputs": [],
   "source": [
    "assert len(get_links(page)) == 50"
   ]
  },
  {
   "cell_type": "markdown",
   "metadata": {},
   "source": [
    "But we only want parties with dates on or before the first of December, 2014.  Let's write a function to filter our list of dates to those at or before a cutoff.  Using a keyword argument, we can put in a default cutoff, but allow us to test with others."
   ]
  },
  {
   "cell_type": "code",
   "execution_count": null,
   "metadata": {
    "ExecuteTime": {
     "end_time": "2018-09-11T18:58:41.826517Z",
     "start_time": "2018-09-11T18:58:41.607988Z"
    }
   },
   "outputs": [],
   "source": [
    "get_Date_Link(31).Link.values"
   ]
  },
  {
   "cell_type": "code",
   "execution_count": 45,
   "metadata": {
    "ExecuteTime": {
     "end_time": "2018-09-13T18:38:25.343564Z",
     "start_time": "2018-09-13T18:38:25.335856Z"
    }
   },
   "outputs": [
    {
     "data": {
      "text/plain": [
       "'2014-12-01 00:00:00'"
      ]
     },
     "execution_count": 45,
     "metadata": {},
     "output_type": "execute_result"
    }
   ],
   "source": [
    "datetime(2014, 12, 1)"
   ]
  },
  {
   "cell_type": "code",
   "execution_count": null,
   "metadata": {},
   "outputs": [],
   "source": [
    "def filter_by_date(links, cutoff=datetime(2014, 12, 1)):\n",
    "    # Return only the elements with date <= cutoff"
   ]
  },
  {
   "cell_type": "markdown",
   "metadata": {},
   "source": [
    "With the default cutoff, there should be no valid parties on the first page.  Adjust the cutoff date to check that it is actually working."
   ]
  },
  {
   "cell_type": "code",
   "execution_count": null,
   "metadata": {},
   "outputs": [],
   "source": [
    "assert len(filter_by_date(get_links(page))) == 0"
   ]
  },
  {
   "cell_type": "markdown",
   "metadata": {},
   "source": [
    "Now we should be ready to get all of the party URLs.  Click through a few of the index pages to determine how the URL changes.  Figure out a strategy to visit all of them.\n",
    "\n",
    "HTTP requests are generally IO-bound.  This means that most of the time is spent waiting for the remote server to respond.  If you use `requests` directly, you can only wait on one response at a time.  [requests-futures](https://github.com/ross/requests-futures) lets you wait for multiple requests at a time.  You may wish to use this to speed up the downloading process."
   ]
  },
  {
   "cell_type": "code",
   "execution_count": 9,
   "metadata": {
    "ExecuteTime": {
     "end_time": "2018-09-13T02:22:40.863984Z",
     "start_time": "2018-09-13T02:22:40.859792Z"
    }
   },
   "outputs": [],
   "source": [
    "from requests_futures.sessions import FuturesSession\n",
    "\n",
    "link_list = []\n",
    "# You can use link_list.extend(others) to add the elements of others\n",
    "# to link_list."
   ]
  },
  {
   "cell_type": "code",
   "execution_count": null,
   "metadata": {
    "ExecuteTime": {
     "end_time": "2018-09-11T19:54:10.275676Z",
     "start_time": "2018-09-11T19:54:10.271449Z"
    }
   },
   "outputs": [],
   "source": []
  },
  {
   "cell_type": "code",
   "execution_count": null,
   "metadata": {
    "ExecuteTime": {
     "end_time": "2018-09-11T19:59:00.090541Z",
     "start_time": "2018-09-11T19:58:58.701554Z"
    }
   },
   "outputs": [],
   "source": [
    "link_list=[[],[]]\n",
    "for i in range(31,-1,-1):\n",
    "    temp=get_Date_Link(i)\n",
    "    \n",
    "    if temp.Date[0] > datetime(2014, 12, 1):\n",
    "        temp2=temp[temp.Date <= datetime(2014, 12, 1)]\n",
    "        link_list[0].extend(temp2.Link.values)\n",
    "        link_list[1].extend(temp2.Date.values)\n",
    "        break\n",
    "    \n",
    "    link_list[0].extend(temp.Link.values)\n",
    "    link_list[1].extend(temp.Date.values)\n",
    "    "
   ]
  },
  {
   "cell_type": "markdown",
   "metadata": {},
   "source": [
    "In the end, you should have 1193 parties."
   ]
  },
  {
   "cell_type": "code",
   "execution_count": null,
   "metadata": {
    "ExecuteTime": {
     "end_time": "2018-09-11T19:59:01.710774Z",
     "start_time": "2018-09-11T19:59:01.707069Z"
    }
   },
   "outputs": [],
   "source": [
    "len(link_list[0])"
   ]
  },
  {
   "cell_type": "code",
   "execution_count": null,
   "metadata": {
    "ExecuteTime": {
     "end_time": "2018-09-11T19:59:03.518790Z",
     "start_time": "2018-09-11T19:59:03.516007Z"
    }
   },
   "outputs": [],
   "source": [
    "assert len(link_list[0]) == 1193"
   ]
  },
  {
   "cell_type": "markdown",
   "metadata": {},
   "source": [
    "In case we need to restart the notebook, we should save this information to a file.  There are many ways you could do this; here's one using `dill`."
   ]
  },
  {
   "cell_type": "code",
   "execution_count": null,
   "metadata": {},
   "outputs": [],
   "source": []
  },
  {
   "cell_type": "code",
   "execution_count": null,
   "metadata": {
    "ExecuteTime": {
     "end_time": "2018-09-11T19:59:06.368039Z",
     "start_time": "2018-09-11T19:59:06.220461Z"
    }
   },
   "outputs": [],
   "source": [
    "dill.dump(link_list, open('nysd-links.pkd', 'wb'))"
   ]
  },
  {
   "cell_type": "markdown",
   "metadata": {},
   "source": [
    "To restore the list, we can just load it from the file.  When the notebook is restarted, you can skip the code above and just run this command."
   ]
  },
  {
   "cell_type": "code",
   "execution_count": 10,
   "metadata": {
    "ExecuteTime": {
     "end_time": "2018-09-13T02:22:48.596341Z",
     "start_time": "2018-09-13T02:22:48.587358Z"
    }
   },
   "outputs": [],
   "source": [
    "link_list = dill.load(open('nysd-links.pkd', 'rb'))"
   ]
  },
  {
   "cell_type": "code",
   "execution_count": 11,
   "metadata": {
    "ExecuteTime": {
     "end_time": "2018-09-13T02:22:51.425235Z",
     "start_time": "2018-09-13T02:22:51.419213Z"
    }
   },
   "outputs": [
    {
     "data": {
      "text/plain": [
       "1193"
      ]
     },
     "execution_count": 11,
     "metadata": {},
     "output_type": "execute_result"
    }
   ],
   "source": [
    "len(link_list[0])"
   ]
  },
  {
   "cell_type": "markdown",
   "metadata": {},
   "source": [
    "## Question 1: histogram\n"
   ]
  },
  {
   "cell_type": "markdown",
   "metadata": {},
   "source": [
    "Get the number of party pages for the 95 months (that is, month-year pair) in the data.  Notice that while the party codes might be written as \"FRIDAY, FEBRUARY 28, 2014\", in this output, you would have to represent the month-year code as \"Feb-2014\".  This can all be done with `strftime` and the [format codes for dates](https://docs.python.org/3/library/datetime.html#strftime-and-strptime-behavior).\n",
    "\n",
    "Plot the histogram for yourself.  Do you see any trends?"
   ]
  },
  {
   "cell_type": "code",
   "execution_count": 12,
   "metadata": {
    "ExecuteTime": {
     "end_time": "2018-09-13T02:22:56.514572Z",
     "start_time": "2018-09-13T02:22:56.508391Z"
    }
   },
   "outputs": [],
   "source": [
    "data=pd.DataFrame()\n",
    "data['Link']=link_list[0]\n",
    "data['Date']=link_list[1]"
   ]
  },
  {
   "cell_type": "code",
   "execution_count": 13,
   "metadata": {
    "ExecuteTime": {
     "end_time": "2018-09-13T02:23:00.119903Z",
     "start_time": "2018-09-13T02:23:00.109310Z"
    }
   },
   "outputs": [],
   "source": [
    "data['Month_Year']=data.Date.dt.strftime('%b-%Y')"
   ]
  },
  {
   "cell_type": "code",
   "execution_count": 15,
   "metadata": {
    "ExecuteTime": {
     "end_time": "2018-09-13T02:23:14.633675Z",
     "start_time": "2018-09-13T02:23:13.902883Z"
    }
   },
   "outputs": [
    {
     "name": "stdout",
     "output_type": "stream",
     "text": [
      "==================\n",
      "Your score:  1.0\n",
      "==================\n"
     ]
    }
   ],
   "source": [
    "def histogram():\n",
    "    temp=data['Month_Year'].value_counts()\n",
    "    temp2int=[int(i) for i in temp.values]\n",
    "    return list(zip(temp.index,temp2int))\n",
    "    \n",
    "grader.score(question_name='graph__histogram', func=histogram)"
   ]
  },
  {
   "cell_type": "markdown",
   "metadata": {},
   "source": [
    "## Phase Two\n"
   ]
  },
  {
   "cell_type": "markdown",
   "metadata": {},
   "source": [
    "In this phase, we we concentrate on getting the names out of captions for a given page.  We'll start with [the benefit cocktails and dinner](http://www.newyorksocialdiary.com/party-pictures/2015/celebrating-the-neighborhood) for [Lenox Hill Neighborhood House](http://www.lenoxhill.org/), a neighborhood organization for the East Side.\n",
    "\n",
    "Take a look at that page.  Note that some of the text on the page is captions, but others are descriptions of the event.  Determine how to select only the captions."
   ]
  },
  {
   "cell_type": "markdown",
   "metadata": {},
   "source": [
    "By our count, there are about 110.  But if you're off by a couple, you're probably okay."
   ]
  },
  {
   "cell_type": "code",
   "execution_count": 70,
   "metadata": {
    "ExecuteTime": {
     "end_time": "2018-09-13T03:51:18.415715Z",
     "start_time": "2018-09-13T03:51:18.412797Z"
    }
   },
   "outputs": [],
   "source": [
    "assert abs(len(captions) - 110) < 5"
   ]
  },
  {
   "cell_type": "markdown",
   "metadata": {},
   "source": [
    "Let's encapsulate this in a function.  As with the links pages, we want to avoid downloading a given page the next time we need to run the notebook.  While we could save the files by hand, as we did before, a checkpoint library like [ediblepickle](https://pypi.python.org/pypi/ediblepickle/1.1.3) can handle this for you.  (Note, though, that you may not want to enable this until you are sure that your function is working.)\n",
    "\n",
    "You should also keep in mind that HTTP requests fail occasionally, for transient reasons.  You should plan how to detect and react to these failures.   The [retrying module](https://pypi.python.org/pypi/retrying) is one way to deal with this."
   ]
  },
  {
   "cell_type": "code",
   "execution_count": 19,
   "metadata": {
    "ExecuteTime": {
     "end_time": "2018-09-13T11:47:25.803922Z",
     "start_time": "2018-09-13T11:47:25.799136Z"
    }
   },
   "outputs": [],
   "source": [
    "from ediblepickle import checkpoint\n",
    "import os\n",
    "from urllib.parse import quote\n",
    "from urllib.request import urlopen\n",
    "\n",
    "cache_dir = 'graph_cache_new'\n",
    "if not os.path.exists(cache_dir):\n",
    "    os.mkdir(cache_dir)\n"
   ]
  },
  {
   "cell_type": "markdown",
   "metadata": {},
   "source": [
    "This should get the same captions as before."
   ]
  },
  {
   "cell_type": "code",
   "execution_count": 22,
   "metadata": {
    "ExecuteTime": {
     "end_time": "2018-09-13T11:48:16.831229Z",
     "start_time": "2018-09-13T11:48:16.738096Z"
    }
   },
   "outputs": [],
   "source": [
    "link_list=load_file('link_list')"
   ]
  },
  {
   "cell_type": "markdown",
   "metadata": {},
   "source": [
    "Now that we have some sample captions, let's start parsing names out of those captions.  There are many ways of going about this, and we leave the details up to you.  Some issues to consider:\n",
    "\n",
    "  1. Some captions are not useful: they contain long narrative texts that explain the event.  Try to find some heuristic rules to separate captions that are a list of names from those that are not.  A few heuristics include:\n",
    "    - look for sentences (which have verbs) and as opposed to lists of nouns. For example, [`nltk` does part of speech tagging](http://www.nltk.org/book/ch05.html) but it is a little slow. There may also be heuristics that accomplish the same thing.\n",
    "    - Similarly, spaCy's [entity recognition](https://spacy.io/docs/usage/entity-recognition) could be useful here.\n",
    "    - Look for commonly repeated threads (e.g. you might end up picking up the photo credits or people such as \"a friend\").\n",
    "    - Long captions are often not lists of people.  The cutoff is subjective, but for grading purposes, *set that cutoff at 250 characters*.\n",
    "  2. You will want to separate the captions based on various forms of punctuation.  Try using `re.split`, which is more sophisticated than `string.split`. **Note**: The reference solution uses regex exclusively for name parsing.\n",
    "  3. You might find a person named \"ra Lebenthal\".  There is no one by this name.  Can anyone spot what's happening here?\n",
    "  4. This site is pretty formal and likes to say things like \"Mayor Michael Bloomberg\" after his election but \"Michael Bloomberg\" before his election.  Can you find other ('optional') titles that are being used?  They should probably be filtered out because they ultimately refer to the same person: \"Michael Bloomberg.\"\n",
    "  5. There is a special case you might find where couples are written as eg. \"John and Mary Smith\". You will need to write some extra logic to make sure this properly parses to two names: \"John Smith\" and \"Mary Smith\".\n",
    "  6. When parsing names from captions, it can help to look at your output frequently and address the problems that you see coming up, iterating until you have a list that looks reasonable. This is the approach used in the reference solution. Because we can only asymptotically approach perfect identification and entity matching, we have to stop somewhere.\n",
    "  \n",
    "**Questions worth considering:**\n",
    "  1. Who is Patrick McMullan and should he be included in the results? How would you address this?\n",
    "  2. What else could you do to improve the quality of the graph's information?"
   ]
  },
  {
   "cell_type": "code",
   "execution_count": 55,
   "metadata": {
    "ExecuteTime": {
     "end_time": "2018-09-13T20:12:45.597858Z",
     "start_time": "2018-09-13T20:12:45.594851Z"
    }
   },
   "outputs": [],
   "source": [
    "Name2=load_file('Name2')"
   ]
  },
  {
   "cell_type": "code",
   "execution_count": 56,
   "metadata": {
    "ExecuteTime": {
     "end_time": "2018-09-13T20:12:46.052966Z",
     "start_time": "2018-09-13T20:12:46.048634Z"
    }
   },
   "outputs": [
    {
     "data": {
      "text/plain": [
       "['Alberto Villalobos',\n",
       " 'Alex Papachristidis',\n",
       " 'Alexandra Richards',\n",
       " 'Alexis Mersentes',\n",
       " 'Allison Minton',\n",
       " 'Amory McAndrew',\n",
       " 'Andi Potamkin',\n",
       " 'Angela Clofine',\n",
       " 'Anne Strickland',\n",
       " 'Barbara Regna']"
      ]
     },
     "execution_count": 56,
     "metadata": {},
     "output_type": "execute_result"
    }
   ],
   "source": [
    "Name2[:10]"
   ]
  },
  {
   "cell_type": "code",
   "execution_count": 57,
   "metadata": {
    "ExecuteTime": {
     "end_time": "2018-09-13T20:12:47.018670Z",
     "start_time": "2018-09-13T20:12:47.015382Z"
    }
   },
   "outputs": [],
   "source": [
    "#dump_file('Name2',Name2)"
   ]
  },
  {
   "cell_type": "markdown",
   "metadata": {},
   "source": [
    "## Question 2: sample_names\n"
   ]
  },
  {
   "cell_type": "markdown",
   "metadata": {},
   "source": [
    "Once you feel that your algorithm is working well on these captions, parse all of the captions and extract all the names mentioned.  Sort them alphabetically, by first name, and return the first hundred."
   ]
  },
  {
   "cell_type": "code",
   "execution_count": 58,
   "metadata": {
    "ExecuteTime": {
     "end_time": "2018-09-13T20:12:49.928361Z",
     "start_time": "2018-09-13T20:12:48.764191Z"
    }
   },
   "outputs": [
    {
     "name": "stdout",
     "output_type": "stream",
     "text": [
      "==================\n",
      "Your score:  1.0\n",
      "==================\n"
     ]
    }
   ],
   "source": [
    "def sample_names():\n",
    "    return Name2[:100]\n",
    "\n",
    "grader.score(question_name='graph__sample_names', func=sample_names)"
   ]
  },
  {
   "cell_type": "markdown",
   "metadata": {},
   "source": [
    "Now, run this sort of test on a few other pages.  You will probably find that other pages have a slightly different HTML structure, as well as new captions that trip up your caption parser.  But don't worry if the parser isn't perfect -- just try to get the easy cases."
   ]
  },
  {
   "cell_type": "markdown",
   "metadata": {},
   "source": [
    "## Phase Three\n"
   ]
  },
  {
   "cell_type": "markdown",
   "metadata": {},
   "source": [
    "Once you are satisfied that your caption scraper and parser are working, run this for all of the pages.  If you haven't implemented some caching of the captions, you probably want to do this first."
   ]
  },
  {
   "cell_type": "code",
   "execution_count": null,
   "metadata": {},
   "outputs": [],
   "source": [
    "# Scraping all of the pages could take 10 minutes or so."
   ]
  },
  {
   "cell_type": "markdown",
   "metadata": {},
   "source": [
    "For the remaining analysis, we think of the problem in terms of a\n",
    "[network](http://en.wikipedia.org/wiki/Computer_network) or a\n",
    "[graph](https://en.wikipedia.org/wiki/Graph_%28discrete_mathematics%29).  Any time a pair of people appear in a photo together, that is considered a link.  What we have described is more appropriately called an (undirected)\n",
    "[multigraph](http://en.wikipedia.org/wiki/Multigraph) with no self-loops but this has an obvious analog in terms of an undirected [weighted graph](http://en.wikipedia.org/wiki/Graph_%28mathematics%29#Weighted_graph).  In this problem, we will analyze the social graph of the New York social elite.  We recommend using python's [`networkx`](https://networkx.github.io/) library."
   ]
  },
  {
   "cell_type": "markdown",
   "metadata": {},
   "source": [
    "All in all, you should end up with over 100,000 captions and more than 110,000 names, connected in about 200,000 pairs."
   ]
  },
  {
   "cell_type": "markdown",
   "metadata": {},
   "source": [
    "## Question 3: degree\n"
   ]
  },
  {
   "cell_type": "markdown",
   "metadata": {},
   "source": [
    "The simplest question to ask is \"who is the most popular\"?  The easiest way to answer this question is to look at how many connections everyone has.  Return the top 100 people and their degree.  Remember that if an edge of the graph has weight 2, it counts for 2 in the degree.\n",
    "\n",
    "**Checkpoint:** Some aggregate stats on the solution\n",
    "\n",
    "    \"count\": 100.0\n",
    "    \"mean\": 189.92\n",
    "    \"std\": 87.8053034454\n",
    "    \"min\": 124.0\n",
    "    \"25%\": 138.0\n",
    "    \"50%\": 157.0\n",
    "    \"75%\": 195.0\n",
    "    \"max\": 666.0"
   ]
  },
  {
   "cell_type": "code",
   "execution_count": 59,
   "metadata": {
    "ExecuteTime": {
     "end_time": "2018-09-13T20:16:14.370175Z",
     "start_time": "2018-09-13T20:16:14.302825Z"
    }
   },
   "outputs": [
    {
     "data": {
      "text/plain": [
       "[('Jean Shafiroff', 631),\n",
       " ('Mark Gilbertson', 500),\n",
       " ('Gillian Miniter', 498),\n",
       " ('Geoffrey Bradfield', 371),\n",
       " ('Alexandra Lebenthal', 343),\n",
       " ('Somers Farkas', 322),\n",
       " ('Andrew Saffir', 292),\n",
       " ('Debbie Bancroft', 290),\n",
       " ('Yaz Hernandez', 284),\n",
       " ('Eleanora Kennedy', 278)]"
      ]
     },
     "execution_count": 59,
     "metadata": {},
     "output_type": "execute_result"
    }
   ],
   "source": [
    "popular_list=load_file('Sorted_degree_110')\n",
    "popular_list[:10]"
   ]
  },
  {
   "cell_type": "code",
   "execution_count": 61,
   "metadata": {
    "ExecuteTime": {
     "end_time": "2018-09-13T20:16:23.178727Z",
     "start_time": "2018-09-13T20:16:21.892990Z"
    }
   },
   "outputs": [
    {
     "name": "stdout",
     "output_type": "stream",
     "text": [
      "==================\n",
      "Your score:  1.0\n",
      "==================\n"
     ]
    }
   ],
   "source": [
    "import heapq  # Heaps are efficient structures for tracking the largest\n",
    "              # elements in a collection.  Use introspection to find the\n",
    "              # function you need.\n",
    "def degree():\n",
    "    return popular_list[:100]\n",
    "\n",
    "grader.score(question_name='graph__degree', func=degree)"
   ]
  },
  {
   "cell_type": "markdown",
   "metadata": {},
   "source": [
    "## Question 4: PageRank\n"
   ]
  },
  {
   "cell_type": "markdown",
   "metadata": {},
   "source": [
    "A similar way to determine popularity is to look at their\n",
    "[PageRank](http://en.wikipedia.org/wiki/PageRank).  PageRank is used for web ranking and was originally\n",
    "[patented](http://patft.uspto.gov/netacgi/nph-Parser?patentnumber=6285999) by Google and is essentially the stationary distribution of a [Markov\n",
    "chain](http://en.wikipedia.org/wiki/Markov_chain) implied by the social graph. You can implement this yourself or use the version in `networkx`\n",
    "\n",
    "Use 0.85 as the damping parameter so that there is a 15% chance of jumping to another vertex at random.\n",
    "\n",
    "**Checkpoint:** Some aggregate stats on the solution\n",
    "\n",
    "    \"count\": 100.0\n",
    "    \"mean\": 0.0001841088\n",
    "    \"std\": 0.0000758068\n",
    "    \"min\": 0.0001238355\n",
    "    \"25%\": 0.0001415028\n",
    "    \"50%\": 0.0001616183\n",
    "    \"75%\": 0.0001972663\n",
    "    \"max\": 0.0006085816"
   ]
  },
  {
   "cell_type": "code",
   "execution_count": 62,
   "metadata": {
    "ExecuteTime": {
     "end_time": "2018-09-13T20:16:31.093818Z",
     "start_time": "2018-09-13T20:16:31.033929Z"
    }
   },
   "outputs": [],
   "source": [
    "pg_rank=load_file('pgsorted_110')"
   ]
  },
  {
   "cell_type": "code",
   "execution_count": 63,
   "metadata": {
    "ExecuteTime": {
     "end_time": "2018-09-13T20:16:33.582453Z",
     "start_time": "2018-09-13T20:16:32.172976Z"
    }
   },
   "outputs": [
    {
     "name": "stdout",
     "output_type": "stream",
     "text": [
      "==================\n",
      "Your score:  1.0\n",
      "==================\n"
     ]
    }
   ],
   "source": [
    "def pagerank():\n",
    "    return pg_rank[:100]\n",
    "\n",
    "grader.score(question_name='graph__pagerank', func=pagerank)"
   ]
  },
  {
   "cell_type": "markdown",
   "metadata": {},
   "source": [
    "## Question 5: best_friends\n"
   ]
  },
  {
   "cell_type": "markdown",
   "metadata": {},
   "source": [
    "Another interesting question is who tend to co-occur with each other.  Give us the 100 edges with the highest weights.\n",
    "\n",
    "Google these people and see what their connection is.  Can we use this to detect instances of infidelity?\n",
    "\n",
    "**Checkpoint:** Some aggregate stats on the solution\n",
    "\n",
    "    \"count\": 100.0\n",
    "    \"mean\": 25.84\n",
    "    \"std\": 16.0395470855\n",
    "    \"min\": 14.0\n",
    "    \"25%\": 16.0\n",
    "    \"50%\": 19.0\n",
    "    \"75%\": 29.25\n",
    "    \"max\": 109.0"
   ]
  },
  {
   "cell_type": "code",
   "execution_count": 64,
   "metadata": {
    "ExecuteTime": {
     "end_time": "2018-09-13T20:16:41.388544Z",
     "start_time": "2018-09-13T20:16:41.286886Z"
    }
   },
   "outputs": [],
   "source": [
    "edges_sorted=load_file('edges_sorted_110')"
   ]
  },
  {
   "cell_type": "code",
   "execution_count": 65,
   "metadata": {
    "ExecuteTime": {
     "end_time": "2018-09-13T20:16:50.428272Z",
     "start_time": "2018-09-13T20:16:42.379258Z"
    }
   },
   "outputs": [
    {
     "name": "stdout",
     "output_type": "stream",
     "text": [
      "==================\n",
      "Your score:  0.9800000000000006\n",
      "==================\n"
     ]
    }
   ],
   "source": [
    "def best_friends():\n",
    "    return edges_sorted[:100]\n",
    "\n",
    "grader.score(question_name='graph__best_friends', func=best_friends)"
   ]
  },
  {
   "cell_type": "markdown",
   "metadata": {},
   "source": [
    "*Copyright &copy; 2016 The Data Incubator.  All rights reserved.*"
   ]
  }
 ],
 "metadata": {
  "kernelspec": {
   "display_name": "Python 3",
   "language": "python",
   "name": "python3"
  },
  "language_info": {
   "codemirror_mode": {
    "name": "ipython",
    "version": 3
   },
   "file_extension": ".py",
   "mimetype": "text/x-python",
   "name": "python",
   "nbconvert_exporter": "python",
   "pygments_lexer": "ipython3",
   "version": "3.6.2"
  },
  "nbclean": true
 },
 "nbformat": 4,
 "nbformat_minor": 1
}
